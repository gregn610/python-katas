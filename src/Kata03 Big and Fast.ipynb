{
 "cells": [
  {
   "cell_type": "markdown",
   "metadata": {},
   "source": [
    "Kata03: How Big? How Fast?\n",
    "\n",
    "Rough estimation is a useful talent to possess. As you’re coding away, you may suddenly need to work out approximately how big a data structure will be, or how fast some loop will run. The faster you can do this, the less the coding flow will be disturbed.\n",
    "\n",
    "So this is a simple kata: a series of questions, each asking for a rough answer. Try to work each out in your head. I’ll post my answers (and how I got them) in a week or so.\n",
    "How Big?"
   ]
  },
  {
   "cell_type": "markdown",
   "metadata": {},
   "source": [
    "roughly how many binary digits (bit) are required for the unsigned representation of:\n",
    "    1,000\n",
    "    1,000,000\n",
    "    1,000,000,000\n",
    "    1,000,000,000,000\n",
    "    8,000,000,000,000"
   ]
  },
  {
   "cell_type": "markdown",
   "metadata": {},
   "source": [
    "    1000 -> 1024 - 2**10                 # right\n",
    "    1000000 -> next up from int -> 2**32 # wrong 2**32 is 4,294,967,296, only need 2**20 to get 1,048,576\n",
    "    1000000000 ->bigint'ish->2**48       # wrong only need 2**30 to get  1,073,741,824 \n",
    "    1000000000000 -> ???                 # wrong. 2**40 = 1,099,511,627,776\n",
    "    8,000,000,000,000 -> previous^3=52   # right 2**43 = 8,796,093,022,208"
   ]
  },
  {
   "cell_type": "markdown",
   "metadata": {},
   "source": [
    "<h2>How big</h2>"
   ]
  },
  {
   "cell_type": "markdown",
   "metadata": {},
   "source": [
    "My town has approximately 20,000 residences. How much space is required to store the names, addresses, and a phone number for all of these (if we store them as characters)?"
   ]
  },
  {
   "cell_type": "code",
   "execution_count": 1,
   "metadata": {
    "collapsed": false
   },
   "outputs": [
    {
     "name": "stdout",
     "output_type": "stream",
     "text": [
      "15468 kilobytes\n"
     ]
    }
   ],
   "source": [
    "#20000 * unicode((fname varchar(64) + lname varchar(64) * address[1..4]*varchar(64)) * tel(24))\n",
    "unicode = 2\n",
    "print(\"%d kilobytes\" %(20000*(unicode*(6*64)+24)/1024))"
   ]
  },
  {
   "cell_type": "markdown",
   "metadata": {},
   "source": [
    "I’m storing 1,000,000 integers in a binary tree. Roughly how many nodes and levels can I expect the tree to have? Roughly how much space will it occupy on a 32-bit architecture?"
   ]
  },
  {
   "cell_type": "code",
   "execution_count": 2,
   "metadata": {
    "collapsed": false
   },
   "outputs": [
    {
     "name": "stdout",
     "output_type": "stream",
     "text": [
      "1048575\n",
      "3 Mb\n"
     ]
    }
   ],
   "source": [
    "# 20 levels to get 1048576 cells at leaf level.\n",
    "# Suspect this is a factorial / kinda binary thing\n",
    "nodeCount = sum([2**i for i in range(20)])\n",
    "print(nodeCount)\n",
    "print(\"%d Mb\" % (nodeCount * 32/8/1024/1024)) # 32bit/bytes/kilo/megabytes"
   ]
  },
  {
   "cell_type": "markdown",
   "metadata": {},
   "source": [
    "<h2>How Fast?</h2>"
   ]
  },
  {
   "cell_type": "markdown",
   "metadata": {},
   "source": [
    "My copy of Meyer’s Object Oriented Software Construction has about 1,200 body pages. Assuming no flow control or protocol overhead, about how long would it take to send it over an async 56k baud modem line?"
   ]
  },
  {
   "cell_type": "code",
   "execution_count": 3,
   "metadata": {
    "collapsed": false
   },
   "outputs": [
    {
     "name": "stdout",
     "output_type": "stream",
     "text": [
      "234 seconds\n"
     ]
    }
   ],
   "source": [
    "# google says 250-300 words per page, agv length 5.1\n",
    "pages = 1200\n",
    "words = 275\n",
    "wordlen = 5.1\n",
    "bitsperbyte = 8\n",
    "k = 1024\n",
    "\n",
    "data = pages*words*wordlen*bitsperbyte/k\n",
    "\n",
    "kbps = 56\n",
    "print(\"%.2d seconds\" %(data/kbps))\n"
   ]
  },
  {
   "cell_type": "markdown",
   "metadata": {},
   "source": [
    "My binary search algorithm takes about 4.5mS to search a 10,000 entry array, and about 6mS to search 100,000 elements. How long would I expect it to take to search 10,000,000 elements (assuming I have sufficient memory to prevent paging)."
   ]
  },
  {
   "cell_type": "code",
   "execution_count": 4,
   "metadata": {
    "collapsed": false
   },
   "outputs": [
    {
     "name": "stdout",
     "output_type": "stream",
     "text": [
      "4.0\n",
      "5.0\n",
      "9.0\n"
     ]
    }
   ],
   "source": [
    "# Binary search is O(log(n))\n",
    "import math\n",
    "print(math.log(10000,10))  # 4 -> 4.5ms\n",
    "print(math.log(100000,10)) # 5 -> 6.0ms\n",
    "\n",
    "# 1.5mS per order of magnatude\n",
    "print(9.0)\n",
    "\n"
   ]
  },
  {
   "cell_type": "markdown",
   "metadata": {},
   "source": [
    "Unix passwords are stored using a one-way hash function: the original string is converted to the ‘encrypted’ password string, which cannot be converted back to the original string. One way to attack the password file is to generate all possible cleartext passwords, applying the password hash to each in turn and checking to see if the result matches the password you’re trying to crack. If the hashes match, then the string you used to generate the hash is the original password (or at least, it’s as good as the original password as far as logging in is concerned). In our particular system, passwords can be up to 16 characters long, and there are 96 possible characters at each position. If it takes 1mS to generate the password hash, is this a viable approach to attacking a password?"
   ]
  },
  {
   "cell_type": "code",
   "execution_count": 5,
   "metadata": {
    "collapsed": false
   },
   "outputs": [
    {
     "data": {
      "text/plain": [
       "1.6501868488916562e+21"
      ]
     },
     "execution_count": 5,
     "metadata": {},
     "output_type": "execute_result"
    }
   ],
   "source": [
    "(96**16)/1000/60/60/24/365 # No! 1.65e+21 years"
   ]
  },
  {
   "cell_type": "code",
   "execution_count": null,
   "metadata": {
    "collapsed": true
   },
   "outputs": [],
   "source": []
  }
 ],
 "metadata": {
  "kernelspec": {
   "display_name": "Python 3",
   "language": "python",
   "name": "python3"
  },
  "language_info": {
   "codemirror_mode": {
    "name": "ipython",
    "version": 3
   },
   "file_extension": ".py",
   "mimetype": "text/x-python",
   "name": "python",
   "nbconvert_exporter": "python",
   "pygments_lexer": "ipython3",
   "version": "3.5.1"
  }
 },
 "nbformat": 4,
 "nbformat_minor": 0
}

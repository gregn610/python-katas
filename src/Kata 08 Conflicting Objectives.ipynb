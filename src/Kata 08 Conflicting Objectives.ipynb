{
 "cells": [
  {
   "cell_type": "markdown",
   "metadata": {},
   "source": [
    "http://codekata.com/kata/kata08-conflicting-objectives/\n",
    "\n",
    "For this kata, we’re going to write a program to solve a simple problem, and we’re going to write it with three different sub-objectives. Our program is going do process the dictionary we used in previous kata, this time looking for all six letter words which are composed of two concatenated smaller words. For example:\n",
    "\n",
    "\n",
    "~~~\n",
    "  al + bums => albums\n",
    "  bar + ely => barely\n",
    "  be + foul => befoul\n",
    "  con + vex => convex\n",
    "  here + by => hereby\n",
    "  jig + saw => jigsaw\n",
    "  tail + or => tailor\n",
    "  we + aver => weaver\n",
    "~~~\n",
    "\n",
    "Write the program three times.\n",
    "\n",
    "    The first time, make program as readable as you can make it.\n",
    "    The second time, optimize the program to run fast fast as you can make it.\n",
    "    The third time, write as extendible a program as you can.\n",
    "\n",
    "Now look back at the three programs and think about how each of the three subobjectives interacts with the others. For example, does making the program as fast as possible make it more or less readable? Does it make easier to extend? Does making the program readable make it slower or faster, flexible or rigid? And does making it extendible make it more or less readable, slower or faster? Are any of these correlations stronger than others? What does this mean in terms of optimizations you may perform on the code you write?"
   ]
  },
  {
   "cell_type": "code",
   "execution_count": null,
   "metadata": {
    "collapsed": false
   },
   "outputs": [],
   "source": [
    "!! head -13 ../data/wordlist.txt"
   ]
  },
  {
   "cell_type": "code",
   "execution_count": null,
   "metadata": {
    "collapsed": false
   },
   "outputs": [],
   "source": [
    "!! egrep '^bar.?.?.?$' ../data/wordlist.txt | sort"
   ]
  },
  {
   "cell_type": "markdown",
   "metadata": {},
   "source": [
    "<h1>Solution 1</h1>\n",
    "Redability"
   ]
  },
  {
   "cell_type": "code",
   "execution_count": null,
   "metadata": {
    "collapsed": true
   },
   "outputs": [],
   "source": [
    "import codecs\n",
    "\n",
    "class JoinedWords():\n",
    "    \"\"\"\n",
    "    Reads a dictionary file and finds the six letter words made of two shorter words.\n",
    "    e.g. \n",
    "        jig + saw => jigsaw\n",
    "    \"\"\"\n",
    "    def __init__(self, dictionary_file, encoding='utf-8'):\n",
    "        self.shortWords = set()   # a set of words\n",
    "        self.longWordsDict = {}  # a dict of words list of the pairs of shortWords that make up the dict key word. \n",
    "        \n",
    "        with codecs.open(dictionary_file, 'r', encoding) as f:\n",
    "            for word in f.read().split():\n",
    "                if len(word) < 6:\n",
    "                    self.shortWords.add(word)\n",
    "                elif len(word) == 6:\n",
    "                    self.longWordsDict.setdefault(word,list())\n",
    "                    \n",
    "        for keyWord in self.longWordsDict.keys():\n",
    "            for i in range(1,6,1):\n",
    "                leftWord = keyWord[:i] # leftmost i chars\n",
    "                rightWord = keyWord[-6+i:]\n",
    "                if leftWord in self.shortWords and rightWord in self.shortWords:\n",
    "                    self.longWordsDict[keyWord].append([leftWord, rightWord])\n",
    "                    \n",
    "    def getJoinedWords(self, longWord):\n",
    "        \"\"\"\n",
    "        Returns the list of shortWords pairs that combine to make longWord\n",
    "        \"\"\"\n",
    "        return self.longWordsDict.get(longWord, [])\n",
    "\n",
    "                "
   ]
  },
  {
   "cell_type": "markdown",
   "metadata": {},
   "source": [
    "<h1>Unit Tests</h1>"
   ]
  },
  {
   "cell_type": "code",
   "execution_count": null,
   "metadata": {
    "collapsed": false
   },
   "outputs": [],
   "source": [
    "from unittest import *\n",
    "\n",
    "class JoinedWordsTests(TestCase):\n",
    "    \n",
    "    @classmethod\n",
    "    def setUpClass(self):\n",
    "        self.jw = JoinedWords('../data/wordlist.txt', 'iso-8859-1')\n",
    "        \n",
    "    def setUp(self):\n",
    "        pass\n",
    "        \n",
    "        \n",
    "    def test_joinedWords_bulk1(self):\n",
    "        # Check expected results\n",
    "        self.testWords = {\n",
    "              'albums' :[['al', 'bums'], ['alb', 'ums'], ['album', 's']], # Example incomplete\n",
    "              'barely' :[['ba','rely'],],                                 # Example wrong\n",
    "              'befoul' :[['be','foul'],],\n",
    "              'convex' :[['con','vex'],],\n",
    "              'hereby' :[['here','by'],],\n",
    "              'jigsaw' :[['jig', 'saw'], ['jigs', 'aw']],                 # Example incomplete\n",
    "              'tailor' :[['tai', 'lor'], ['tail', 'or']],                 # Example incomplete\n",
    "              'weaver' :[['we', 'aver'], ['weave', 'r']],                 # Example incomplete\n",
    "        }\n",
    "        for tk in self.testWords.keys():\n",
    "            joinedWords = self.jw.getJoinedWords(tk)\n",
    "            self.assertEqual(self.testWords[tk], joinedWords)\n",
    "            \n",
    "\n",
    "jwt = JoinedWordsTests()\n",
    "\n",
    "suite = TestLoader().loadTestsFromModule(jwt)\n",
    "TextTestRunner().run(suite)"
   ]
  },
  {
   "cell_type": "markdown",
   "metadata": {},
   "source": [
    "<h1>Solution 2</h1>\n",
    "Performance\n",
    "\n",
    "baseline\n",
    "~~~\n",
    "%time [JoinedWords('../data/wordlist.txt', 'iso-8859-1', 10) for x in range(33)]\n",
    "\n",
    "CPU times: user 40.7 s, sys: 16.9 s, total: 57.6 s\n",
    "Wall time: 1min 3s\n",
    "~~~\n"
   ]
  },
  {
   "cell_type": "code",
   "execution_count": 10,
   "metadata": {
    "collapsed": true
   },
   "outputs": [],
   "source": [
    "import codecs\n",
    "\n",
    "# Best so far\n",
    "class JoinedWords():\n",
    "    def __init__(self, dictionary_file, encoding='utf-8', wordSize=6):\n",
    "        self.shortWords = set()  # a set of words\n",
    "        self.longWordsDict = {}  # a dict of words list of the pairs of shortWords that make up the dict key word. \n",
    "        \n",
    "        with codecs.open(dictionary_file, 'r', encoding) as f:\n",
    "            for word in f.read().split():\n",
    "                if len(word) < wordSize:\n",
    "                    self.shortWords.add(word)\n",
    "                elif len(word) == wordSize:\n",
    "                    self.longWordsDict.setdefault(word,list())\n",
    "                    \n",
    "        neg = -1*wordSize\n",
    "        for keyWord in self.longWordsDict:            \n",
    "            for i in range(1,wordSize,1):\n",
    "                # Inline leftWord and rightWord interim assignments\n",
    "                if keyWord[neg+i:] in self.shortWords \\\n",
    "                  and keyWord[:i] in self.shortWords: # rightWord will be longer/less probable so short-circuit on that\n",
    "                    self.longWordsDict[keyWord].append([keyWord[:i], keyWord[neg+i:]])\n",
    "        \n",
    "        # Hmmm - list comprehensions haven't helped performance ( or legibility )\n",
    "        #for keyWord in self.longWordsDict: \n",
    "        #    self.longWordsDict[keyWord] = [ [keyWord[:i], keyWord[neg+i:]] \\\n",
    "        #                                    for i in range(1,wordSize,1)   \\\n",
    "        #                                    if keyWord[neg+i:] in self.shortWords and keyWord[:i] in self.shortWords]\n",
    "                    \n",
    "    def getJoinedWords(self, longWord):\n",
    "        \"\"\"\n",
    "        Returns the list of shortWords pairs that combine to make longWord\n",
    "        \"\"\"\n",
    "        return self.longWordsDict.get(longWord, [])\n",
    "    "
   ]
  },
  {
   "cell_type": "code",
   "execution_count": null,
   "metadata": {
    "collapsed": false
   },
   "outputs": [],
   "source": [
    "# Worse :(\n",
    "# CPU times: user 1min 10s, sys: 20.3 s, total: 1min 30s\n",
    "# Wall time: 1min 36s\n",
    "class JoinedWords():\n",
    "    \"\"\"\n",
    "    Split dicts.\n",
    "    Does making many small sets improve search time?\n",
    "    Empirically - No.\n",
    "    \"\"\"\n",
    "    def __init__(self, dictionary_file, encoding='utf-8', wordSize=6):\n",
    "        self.shortWords = {}  # a dict of sets of words. dict keysed by 1st letter\n",
    "        self.longWordsDict = {}  # a dict of words list of the pairs of shortWords that make up the dict key word. \n",
    "        \n",
    "        with codecs.open(dictionary_file, 'r', encoding) as f:\n",
    "            for word in f.read().split():\n",
    "                if len(word) < wordSize:\n",
    "                    self.shortWords.setdefault(word[0].upper(),set())\n",
    "                    self.shortWords[word[0].upper()].add(word)\n",
    "                elif len(word) == wordSize:\n",
    "                    self.longWordsDict.setdefault(word,list())\n",
    "                    \n",
    "        neg = -1*wordSize\n",
    "        for keyWord in self.longWordsDict:            \n",
    "            for i in range(1,wordSize,1):\n",
    "                # Inline leftWord and rightWord interim assignments\n",
    "                if keyWord[neg+i:] in self.shortWords.get(keyWord[neg+i:][0].upper(),set()) \\\n",
    "                  and keyWord[:i] in self.shortWords.get(keyWord[:i][0].upper(),set()): # rightWord will be longer/less probable so short-circuit on that\n",
    "                    self.longWordsDict[keyWord].append([keyWord[:i], keyWord[neg+i:]])\n",
    "                            \n",
    "    def getJoinedWords(self, longWord):\n",
    "        \"\"\"\n",
    "        Returns the list of shortWords pairs that combine to make longWord\n",
    "        \"\"\"\n",
    "        return self.longWordsDict.get(longWord, [])\n",
    "    "
   ]
  },
  {
   "cell_type": "code",
   "execution_count": null,
   "metadata": {
    "collapsed": false
   },
   "outputs": [],
   "source": [
    "%time [JoinedWords('../data/wordlist.txt', 'iso-8859-1', 10) for x in range(33)]"
   ]
  },
  {
   "cell_type": "code",
   "execution_count": null,
   "metadata": {
    "collapsed": false
   },
   "outputs": [],
   "source": []
  },
  {
   "cell_type": "code",
   "execution_count": 2,
   "metadata": {
    "collapsed": true
   },
   "outputs": [],
   "source": [
    "%reload_ext line_profiler"
   ]
  },
  {
   "cell_type": "code",
   "execution_count": 5,
   "metadata": {
    "collapsed": false
   },
   "outputs": [],
   "source": [
    "%lprun -f jw.__init__ jw.__init__('../data/wordlist.txt', 'iso-8859-1', 10)"
   ]
  },
  {
   "cell_type": "markdown",
   "metadata": {},
   "source": [
    "<h3>&#37;lprun output</h3>\n",
    "~~~\n",
    "Timer unit: 1e-06 s\n",
    "\n",
    "Total time: 3.33134 s\n",
    "File: <ipython-input-1-eccc2ac6af9d>\n",
    "Function: __init__ at line 4\n",
    "\n",
    "Line #      Hits         Time  Per Hit   % Time  Line Contents\n",
    "==============================================================\n",
    "     4                                               def __init__(self, dictionary_file, encoding='utf-8', wordSize=6):\n",
    "     5         1        40836  40836.0      1.2          self.shortWords = set()  # a set of words\n",
    "     6         1        49784  49784.0      1.5          self.longWordsDict = {}  # a dict of words list of the pairs of shortWords that make up the dict key word. \n",
    "     7                                                   \n",
    "     8         1          143    143.0      0.0          with codecs.open(dictionary_file, 'r', encoding) as f:\n",
    "     9    338883       474724      1.4     14.3              for word in f.read().split():\n",
    "    10    338882       438456      1.3     13.2                  if len(word) < wordSize:\n",
    "    11    195220       337116      1.7     10.1                      self.shortWords.add(word)\n",
    "    12    143662       190462      1.3      5.7                  elif len(word) == wordSize:\n",
    "    13     43229       206047      4.8      6.2                      self.longWordsDict.setdefault(word,list())\n",
    "    14                                                               \n",
    "    15         1            6      6.0      0.0          neg = -1*wordSize\n",
    "    16     43230        54559      1.3      1.6          for keyWord in self.longWordsDict:            \n",
    "    17    432290       558961      1.3     16.8              for i in range(1,wordSize,1):\n",
    "    18                                                           # Inline leftWord and rightWord interim assignments\n",
    "    19    389061       858321      2.2     25.8                  if keyWord[neg+i:] in self.shortWords                   and keyWord[:i] in self.shortWords: # rightWord will be longer/less probable so short-circuit on that\n",
    "    20     36838       121929      3.3      3.7                      self.longWordsDict[keyWord].append([keyWord[:i], keyWord[neg+i:]])\n",
    "    ~~~"
   ]
  },
  {
   "cell_type": "markdown",
   "metadata": {},
   "source": [
    "<h1>Solution 3</h1>\n",
    "Extensability"
   ]
  },
  {
   "cell_type": "code",
   "execution_count": 8,
   "metadata": {
    "collapsed": true
   },
   "outputs": [],
   "source": [
    "import codecs\n",
    "\n",
    "class JoinedWords():\n",
    "    \"\"\"\n",
    "    Reads a dictionary file and finds the n letter words made of two shorter words.\n",
    "    e.g. \n",
    "        jig + saw => jigsaw\n",
    "    \"\"\"\n",
    "    def __init__(self, dictionary_file, encoding='utf-8', wordSize=6):\n",
    "        self.shortWords = set()   # a set of words\n",
    "        self.longWordsDict = {}  # a dict of words list of the pairs of shortWords that make up the dict key word. \n",
    "        \n",
    "        with codecs.open(dictionary_file, 'r', encoding) as f:\n",
    "            for word in f.read().split():\n",
    "                if len(word) < wordSize:\n",
    "                    self.shortWords.add(word)\n",
    "                elif len(word) == wordSize:\n",
    "                    self.longWordsDict.setdefault(word,list())\n",
    "                    \n",
    "        for keyWord in self.longWordsDict.keys():\n",
    "            for i in range(1,wordSize,1):\n",
    "                leftWord = keyWord[:i] # leftmost i chars\n",
    "                rightWord = keyWord[-1*wordSize+i:]\n",
    "                if leftWord in self.shortWords and rightWord in self.shortWords:\n",
    "                    self.longWordsDict[keyWord].append([leftWord, rightWord])\n",
    "                    \n",
    "    def getJoinedWords(self, longWord):\n",
    "        \"\"\"\n",
    "        Returns the list of shortWords pairs that combine to make longWord\n",
    "        \"\"\"\n",
    "        return self.longWordsDict.get(longWord, [])\n",
    "\n",
    "                "
   ]
  },
  {
   "cell_type": "code",
   "execution_count": 9,
   "metadata": {
    "collapsed": false
   },
   "outputs": [
    {
     "name": "stderr",
     "output_type": "stream",
     "text": [
      ".\n",
      "----------------------------------------------------------------------\n",
      "Ran 1 test in 1.194s\n",
      "\n",
      "OK\n"
     ]
    },
    {
     "data": {
      "text/plain": [
       "<unittest.runner.TextTestResult run=1 errors=0 failures=0>"
      ]
     },
     "execution_count": 9,
     "metadata": {},
     "output_type": "execute_result"
    }
   ],
   "source": [
    "from unittest import *\n",
    "\n",
    "class JoinedWords3Tests(TestCase):\n",
    "    \n",
    "    @classmethod\n",
    "    def setUpClass(self):\n",
    "        self.jw = JoinedWords('../data/wordlist.txt', 'iso-8859-1', wordSize=10)\n",
    "        \n",
    "    def setUp(self):\n",
    "        pass\n",
    "        \n",
    "        \n",
    "    def test_joinedWords_bulk1(self):\n",
    "        # Check expected results\n",
    "        self.testWords = {\n",
    "              'demonesses': [['demo', 'nesses'], ['demon', 'esses'], ['demoness', 'es']],\n",
    "              'deliberate': [['de', 'liberate'], ['deli', 'berate']],\n",
    "              'threadless': [['thread', 'less']],\n",
    "              \"longshot's\": [['long', \"shot's\"]],\n",
    "              'threadless': [['thread', 'less']],\n",
    "        }\n",
    "        for tk in self.testWords.keys():\n",
    "            joinedWords = self.jw.getJoinedWords(tk)\n",
    "            self.assertEqual(self.testWords[tk], joinedWords)\n",
    "            \n",
    "\n",
    "jwt3 = JoinedWords3Tests()\n",
    "\n",
    "suite = TestLoader().loadTestsFromModule(jwt3)\n",
    "TextTestRunner().run(suite)"
   ]
  },
  {
   "cell_type": "code",
   "execution_count": null,
   "metadata": {
    "collapsed": true
   },
   "outputs": [],
   "source": []
  },
  {
   "cell_type": "code",
   "execution_count": 4,
   "metadata": {
    "collapsed": false
   },
   "outputs": [],
   "source": [
    "jw = JoinedWords('../data/wordlist.txt', 'iso-8859-1', 10)"
   ]
  },
  {
   "cell_type": "code",
   "execution_count": null,
   "metadata": {
    "collapsed": false
   },
   "outputs": [],
   "source": [
    "jw.longWordsDict"
   ]
  },
  {
   "cell_type": "code",
   "execution_count": null,
   "metadata": {
    "collapsed": false
   },
   "outputs": [],
   "source": [
    "jw.shortWords"
   ]
  },
  {
   "cell_type": "code",
   "execution_count": null,
   "metadata": {
    "collapsed": true
   },
   "outputs": [],
   "source": []
  }
 ],
 "metadata": {
  "kernelspec": {
   "display_name": "Python 3",
   "language": "python",
   "name": "python3"
  },
  "language_info": {
   "codemirror_mode": {
    "name": "ipython",
    "version": 3
   },
   "file_extension": ".py",
   "mimetype": "text/x-python",
   "name": "python",
   "nbconvert_exporter": "python",
   "pygments_lexer": "ipython3",
   "version": "3.5.1"
  }
 },
 "nbformat": 4,
 "nbformat_minor": 0
}

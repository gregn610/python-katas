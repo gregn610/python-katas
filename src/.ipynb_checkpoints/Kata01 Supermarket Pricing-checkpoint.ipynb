{
 "cells": [
  {
   "cell_type": "markdown",
   "metadata": {},
   "source": [
    "<h1>Kata01: Supermarket Pricing</h1>\n",
    "\n",
    "\n",
    "This kata arose from some discussions we’ve been having at the DFW Practioners meetings. The problem domain is something seemingly simple: pricing goods at supermarkets.\n",
    "\n",
    "Some things in supermarkets have simple prices: this can of beans costs $0.65. Other things have more complex prices. For example:\n",
    "\n",
    "    three for a dollar (so what’s the price if I buy 4, or 5?)\n",
    "    $1.99/pound (so what does 4 ounces cost?)\n",
    "    buy two, get one free (so does the third item have a price?)\n",
    "\n",
    "This kata involves no coding. The exercise is to experiment with various models for representing money and prices that are flexible enough to deal with these (and other) pricing schemes, and at the same time are generally usable (at the checkout, for stock management, order entry, and so on). Spend time considering issues such as:\n",
    "\n",
    "    does fractional money exist?\n",
    "    when (if ever) does rounding take place?\n",
    "    how do you keep an audit trail of pricing decisions (and do you need to)?\n",
    "    are costs and prices the same class of thing?\n",
    "    if a shelf of 100 cans is priced using “buy two, get one free”, how do you value the stock?\n",
    "\n",
    "This is an ideal shower-time kata, but be careful. Some of the problems are more subtle than they first appear. I suggest that it might take a couple of weeks worth of showers to exhaust the main alternatives.\n",
    "Goal\n",
    "\n",
    "The goal of this kata is to practice a looser style of experimental modelling. Look for as many different ways of handling the issues as possible. Consider the various tradeoffs of each. What techniques are best for exploring these models? For recording them? How can you validate a model is reasonable?"
   ]
  },
  {
   "cell_type": "code",
   "execution_count": 19,
   "metadata": {
    "collapsed": false
   },
   "outputs": [],
   "source": [
    "import datetime\n",
    "\n",
    "class SKU():\n",
    "    \"\"\"\n",
    "    Stock Keeping Unit. The lowest level of stuff \n",
    "    \"\"\"\n",
    "    def __init__(self, description, manufacturer=None, material=None, \n",
    "                 size=None, color=None, packaging=None):\n",
    "        self.description = description\n",
    "        \n",
    "        self.manufacturer = manufacturer        \n",
    "        self.material = material\n",
    "        self.size = size\n",
    "        self.color = color\n",
    "        self.packaging = packaging\n",
    "        \n",
    "    def __repr__(self):\n",
    "        return \"<%s {'description':%s, 'size': %s}>\" % (type(self).__name__, self.description, self.size)\n",
    "\n",
    "class Lot():\n",
    "    \"\"\"\n",
    "    A box or pallet of SKUs\n",
    "    timestamp is when they came into inventory\n",
    "    \"\"\"\n",
    "    def __init__(self, SKU, quantity, unitCost, timestamp=None):\n",
    "        self.SKU = SKU\n",
    "        self.quantity = quantity\n",
    "        self.unitCost = unitCost\n",
    "        self.timestamp = timestamp\n",
    "        \n",
    "    def __repr__(self):\n",
    "        return \"<%s {'SKU':%s, 'quantity': %s, 'unitCost': %.2f, 'timestamp': %s }>\" % (\n",
    "            type(self).__name__, self.SKU, self.quantity, self.unitCost, self.timestamp.strftime(\"%Y-%m-%d\"))\n",
    "                \n",
    "class UnorderedInventory():\n",
    "    \"\"\"\n",
    "    A list of Lots where the in & out order doesn't matter\n",
    "    \"\"\"\n",
    "    def __init__(self):\n",
    "        self._inventory = [] # A list of Lots\n",
    "        \n",
    "    def __repr__(self):\n",
    "        return \"<%s {'_inventory':%s}>\" % (type(self).__name__, self._inventory)\n",
    "    \n",
    "    def addLot(self, lot):\n",
    "        self._inventory.append(lot)\n",
    "\n",
    "    def addStock(self, SKU, quantity, unitCost, timestamp=None):\n",
    "        if timestamp == None: \n",
    "            timestamp = datetime.datetime.now()\n",
    "            \n",
    "        self.addLot( Lot(SKU, quantity, unitCost, timestamp))\n",
    "\n",
    "    def _find_lots(self, SKU):\n",
    "        # For inherited classes, matching_lots should be sorted by stock rotation policy\n",
    "        return [l for l in _inventory if l.SKU is SKU] \n",
    "            \n",
    "    def drawStock(self, SKU, requested_quantity):\n",
    "        \"\"\"\n",
    "        May return less than the requested_quantity if stock is not available\n",
    "        \"\"\"\n",
    "        matching_lots = self._find_lots(SKU)\n",
    "        r = 0\n",
    "\n",
    "        while r < requested_quantity and len(matching_lots) > 0:\n",
    "            diff = requested_quantity - r # 30 - 11\n",
    "            # Transaction ??? Until then drawdown 1st then incr r\n",
    "            if matching_lots[0].quantity >= diff:\n",
    "                # This lot can meet the requirement                \n",
    "                matching_lots[0].quantity -= diff\n",
    "                r += diff\n",
    "            else:\n",
    "                # This lot can't meet the requirement                \n",
    "                tmp = matching_lots[0].quantity\n",
    "                del matching_lots[0]\n",
    "                r += tmp\n",
    "                \n",
    "        return r\n",
    "            \n",
    "               \n",
    "    def total_quantity(self, SKU):\n",
    "        sum([l.quantity for l in _inventory if l.SKU is SKU])\n",
    "        \n",
    "    def total_unitCost(self, SKU):\n",
    "        sum([l.unitCost for l in _inventory if l.SKU is SKU])\n",
    "        \n",
    "\n",
    "class LIFOInventory(UnorderedInventory): \n",
    "    \"\"\"\n",
    "    A list of Lots where Last In First Out applies\n",
    "    \"\"\"\n",
    "    def _find_lots(self, SKU):\n",
    "        # For inherited classes, matching_lots should be sorted by stock rotation policy\n",
    "        return sorted([l for l in _inventory if l.SKU is SKU], key = lambda lot: lot.timestamp, reverse=True)\n",
    "        \n",
    "class FIFOInventory(UnorderedInventory): \n",
    "    \"\"\"\n",
    "    A list of Lots where First In First Out applies\n",
    "    \"\"\"\n",
    "    def _find_lots(self, SKU):\n",
    "        # For inherited classes, matching_lots should be sorted by stock rotation policy\n",
    "        return sorted([l for l in _inventory if l.SKU is SKU], key = lambda lot: lot.timestamp, reverse=False)\n",
    "\n",
    "\n",
    "class PricePoint():\n",
    "    \"\"\"\n",
    "    The normal selling price of a SKU over a date range.\n",
    "    \"\"\"\n",
    "    def __init__(self, SKU, price, fromDate, untilDate=None):\n",
    "        self.SKU = SKU\n",
    "        self.price = price\n",
    "        self.fromDate = fromDate\n",
    "        self.untilDate = untilDate  \n",
    "        \n",
    "    def __repr__(self):\n",
    "        return \"<%s {'SKU':%s, 'price': %.2f, 'fromDate': %s, 'untilDate': %s}>\" % (\n",
    "            type(self).__name__, \n",
    "            self.SKU, \n",
    "            self.price, \n",
    "            \"None\" if self.fromDate is None else self.fromDate.strftime(\"%Y-%m-%d\"), \n",
    "            \"None\" if self.untilDate is None else self.untilDate.strftime(\"%Y-%m-%d\"), \n",
    "        )\n",
    "    \n",
    "class PriceList():\n",
    "    \"\"\"\n",
    "    A list of PricePoints (which have a relevant date range)\n",
    "    \"\"\"\n",
    "    def __init__(self):\n",
    "        self._prices = [] # A list of PricePoints\n",
    "    \n",
    "    def addPricePoint(self, pricePoint):\n",
    "        # ToDo - deal with overlapping date ranges better than max()\n",
    "        self._prices.append(pricePoint)\n",
    "        \n",
    "    def add(self, SKU, price, fromDate, untilDate=None):\n",
    "        pp = PricePoint(SKU, price, fromDate, untilDate)\n",
    "        self.addPricePoint(pp)\n",
    "        \n",
    "    def getPrice(self, SKU, as_at=None):\n",
    "        \"\"\"\n",
    "        Returns the largest valid price.\n",
    "        Throws a SKU Not Found exception.\n",
    "        as_at defaults to now().\n",
    "        \"\"\"\n",
    "        if as_at == None: \n",
    "            as_at = datetime.datetime.now()\n",
    "        \n",
    "        # Time for a lesson in list comprehension scopes :( \n",
    "        # Using lambda trick to get argument SKU into the list comprehension's scope\n",
    "        # http://stackoverflow.com/a/28130950\n",
    "        matchingPricePoints = (lambda SKU=SKU: [p for p in self._prices if p.SKU is SKU and \n",
    "                                    p.fromDate <= as_at and \n",
    "                                    (p.untilDate is None or p.untilDate < as_at)])()\n",
    "        \n",
    "        #if len(matchingPricePoints) <1:\n",
    "        if matchingPricePoints is None:\n",
    "            raise Exception('Price not found.')\n",
    "            \n",
    "        return sorted(matchingPricePoints, key=lambda pp: pp.price, reverse=True)[0].price\n",
    "        \n",
    "\n",
    "class DiscountFormula():\n",
    "    \"\"\"\n",
    "    How much to knock off the price. \n",
    "    Factor is the percentage off & should normally be negative ( but could be positive for punitive pricing )\n",
    "    \"\"\"\n",
    "    def __init__(self, description, factor=-0.0):\n",
    "        self.description = description\n",
    "        self.factor = factor\n",
    "        \n",
    "    def __str__(self):\n",
    "        return self.description\n",
    "        \n",
    "    def value(self, quantity, unitPrice ):\n",
    "        return quantity * unitPrice * self.factor\n",
    "        \n",
    "\n",
    "class DiscountFormula_m_for_n(DiscountFormula):\n",
    "    \"\"\"\n",
    "    How much to knock off the price for a typical 3 for 2 special \n",
    "    Factor should normally be -1.0\n",
    "    \"\"\"\n",
    "    def __init__(self, mfor, nfor, description, factor=-1.0):\n",
    "        self.mfor = mfor\n",
    "        self.nfor = nfor\n",
    "        super().__init__(description, factor) \n",
    "        \n",
    "    def __str__(self):\n",
    "        return self.description\n",
    "        \n",
    "    def value(self, quantity, unitPrice):\n",
    "        return int( (self.mfor - self.nfor) / self.mfor * quantity) * unitPrice * self.factor\n",
    "\n",
    "class DiscountLine():\n",
    "    \"\"\"\n",
    "    Line item on a PurchaseOrder\n",
    "    \"\"\"\n",
    "    def __init__(self, SKU, quantity, unitPrice, discountFormula):\n",
    "        self.SKU = SKU\n",
    "        self.discountFormula = discountFormula\n",
    "        self.value = discountFormula.value(quantity, unitPrice )\n",
    "        \n",
    "    def __str__(self):\n",
    "        return \"%s -> %s @ %.2f\" % (self.discountFormula.description, self.SKU.description, self.value)\n",
    "        \n",
    "    \n",
    "class OrderLine():\n",
    "    \"\"\"\n",
    "    Line item on a PurchaseOrder\n",
    "    \"\"\"\n",
    "    def __init__(self, SKU, quantity, unitPrice):\n",
    "        self.SKU = SKU\n",
    "        self.quantity = quantity\n",
    "        self.unitPrice = unitPrice\n",
    "        \n",
    "    def __str__(self):\n",
    "        return \"%d * %s @ %.2f\" % (self.quantity, self.SKU.description, self.unitPrice)\n",
    "        \n",
    "    def value(self):\n",
    "        \"\"\"Quantity * Price\"\"\"\n",
    "        return (self.quantity * self.unitPrice)\n",
    "    \n",
    "    \n",
    "class PurchaseOrder():\n",
    "    \"\"\"\n",
    "    List of OrderLines and DiscountLines\n",
    "    Specify a priceList to use when instantiating.\n",
    "    \"\"\"\n",
    "    def __init__(self, priceList):\n",
    "        self._priceList = priceList\n",
    "        self.orderLines = []\n",
    "        self.discountLines = []\n",
    "        \n",
    "    def __str__(self):\n",
    "        return \"\\n\".join([str(ol) for ol in self.orderLines])    + \\\n",
    "            \"\\nDiscounts \\n\"                                     + \\\n",
    "            \"\\n\".join([str(dl) for dl in self.discountLines])    + \\\n",
    "            \"\\n------------------------------------------------\" + \\\n",
    "            \"\\n               Total %.2f\" % self.totalValue()    + \\\n",
    "            \"\\n================================================\"\n",
    "            \n",
    "            \n",
    "    def addOrderLine(self, SKU, quantity):\n",
    "        ol = OrderLine(SKU, quantity, self._priceList.getPrice(SKU))\n",
    "        self.orderLines.append(ol)\n",
    "        \n",
    "    def subtotalOrderLineValue(self, SKU):\n",
    "        matchingOrderLines = (lambda SKU=SKU: [ol for ol in self.orderLines if ol.SKU is SKU])()\n",
    "        return sum([ol.value() for ol in matchingOrderLines ])\n",
    "    \n",
    "    def subtotalOrderLineQuantity(self, SKU):\n",
    "        matchingOrderLines = (lambda SKU=SKU: [ol for ol in self.orderLines if ol.SKU is SKU])()\n",
    "        return sum([ol.quantity for ol in matchingOrderLines ])\n",
    "            \n",
    "    def addDiscountLine(self, SKU, discountFormula):\n",
    "        dl = DiscountLine(SKU, self.subtotalOrderLineQuantity(SKU), self._priceList.getPrice(SKU), discountFormula)\n",
    "        self.discountLines.append(dl)\n",
    "       \n",
    "    def totalValue(self):\n",
    "        return sum([ol.value() for ol in self.orderLines]) + sum([dl.value for dl in self.discountLines])\n",
    "    \n",
    "    \n"
   ]
  },
  {
   "cell_type": "markdown",
   "metadata": {},
   "source": [
    "<h2>ToDo</h2>\n",
    " * Send a purchaseOrder to Inventory for fulfillment\n",
    " * Draw down stock\n",
    " * Deal with insufficient stock \n",
    " * Test drawdown ordering\n"
   ]
  },
  {
   "cell_type": "markdown",
   "metadata": {},
   "source": [
    "<h2>Testing</h2>\n",
    " * Create some SKUs\n",
    " * Aquire some stock\n",
    " * Value that Stock\n",
    " * Create some specials\n",
    " * Create some orders\n",
    " * Value those orders with the discounts"
   ]
  },
  {
   "cell_type": "code",
   "execution_count": 20,
   "metadata": {
    "collapsed": false
   },
   "outputs": [
    {
     "name": "stdout",
     "output_type": "stream",
     "text": [
      "<UnorderedInventory {'_inventory':[<Lot {'SKU':<SKU {'description':Tin baked beans in tomato sauce, 'size': None}>, 'quantity': 100, 'unitCost': 2.99, 'timestamp': 2016-07-06 }>, <Lot {'SKU':<SKU {'description':Tin cannolli beans in brine, 'size': None}>, 'quantity': 200, 'unitCost': 1.99, 'timestamp': 2016-07-06 }>]}>\n"
     ]
    }
   ],
   "source": [
    "baked_beans_sku    = SKU( description=\"Tin baked beans in tomato sauce\", manufacturer=\"Heinz\")\n",
    "cannolli_beans_sku = SKU( description=\"Tin cannolli beans in brine\", manufacturer=\"Koo\")\n",
    "\n",
    "warehouse1 = UnorderedInventory()\n",
    "warehouse1.addStock(baked_beans_sku, 100, 2.99)\n",
    "warehouse1.addStock(cannolli_beans_sku, 200, 1.99)\n",
    "\n",
    "print(warehouse1)"
   ]
  },
  {
   "cell_type": "code",
   "execution_count": 21,
   "metadata": {
    "collapsed": false
   },
   "outputs": [
    {
     "name": "stdout",
     "output_type": "stream",
     "text": [
      "5 * Tin baked beans in tomato sauce @ 3.99\n",
      "5 * Tin baked beans in tomato sauce @ 3.99\n",
      "Discounts \n",
      "\n",
      "------------------------------------------------\n",
      "               Total 39.90\n",
      "================================================\n"
     ]
    }
   ],
   "source": [
    "retailPriceList = PriceList()\n",
    "retailPriceList.add(baked_beans_sku, 3.99, datetime.datetime(1999, 1, 1), datetime.datetime(2009, 9, 9))\n",
    "retailPriceList.add(baked_beans_sku, 3.99, datetime.datetime(2009, 9, 9))\n",
    "\n",
    "retailPriceList.add(cannolli_beans_sku, 4.99, datetime.datetime(1988,  1,  1), datetime.datetime(2002, 2, 2))\n",
    "retailPriceList.add(cannolli_beans_sku, 4.99, datetime.datetime(2002, 2, 1)) #Overlap!\n",
    "\n",
    "po = PurchaseOrder(retailPriceList)\n",
    "po.addOrderLine( baked_beans_sku, 5 )\n",
    "po.addOrderLine( baked_beans_sku, 5 )\n",
    "\n",
    "print(po)"
   ]
  },
  {
   "cell_type": "code",
   "execution_count": 22,
   "metadata": {
    "collapsed": true
   },
   "outputs": [],
   "source": [
    "po.addOrderLine( cannolli_beans_sku, 6 )\n",
    "po.addOrderLine( cannolli_beans_sku, 4 )"
   ]
  },
  {
   "cell_type": "code",
   "execution_count": 23,
   "metadata": {
    "collapsed": false
   },
   "outputs": [
    {
     "name": "stdout",
     "output_type": "stream",
     "text": [
      "5 * Tin baked beans in tomato sauce @ 3.99\n",
      "5 * Tin baked beans in tomato sauce @ 3.99\n",
      "6 * Tin cannolli beans in brine @ 4.99\n",
      "4 * Tin cannolli beans in brine @ 4.99\n",
      "Discounts \n",
      "\n",
      "------------------------------------------------\n",
      "               Total 89.80\n",
      "================================================\n"
     ]
    }
   ],
   "source": [
    "print(po)"
   ]
  },
  {
   "cell_type": "code",
   "execution_count": 24,
   "metadata": {
    "collapsed": false
   },
   "outputs": [
    {
     "name": "stdout",
     "output_type": "stream",
     "text": [
      "5 * Tin baked beans in tomato sauce @ 3.99\n",
      "5 * Tin baked beans in tomato sauce @ 3.99\n",
      "6 * Tin cannolli beans in brine @ 4.99\n",
      "4 * Tin cannolli beans in brine @ 4.99\n",
      "Discounts \n",
      "Special Offer 15% off -> Tin baked beans in tomato sauce @ -5.99\n",
      "Special 3 for 2 -> Tin cannolli beans in brine @ -14.97\n",
      "------------------------------------------------\n",
      "               Total 68.85\n",
      "================================================\n"
     ]
    }
   ],
   "source": [
    "threeForTwoDiscountFormula = DiscountFormula_m_for_n( 3, 2, \"Special 3 for 2\",-1.0 )\n",
    "pct80DiscountFormula = DiscountFormula( \"Special Offer 15% off\", -0.15)\n",
    "po.addDiscountLine(baked_beans_sku, pct80DiscountFormula)\n",
    "po.addDiscountLine(cannolli_beans_sku, threeForTwoDiscountFormula)\n",
    "\n",
    "print(po)"
   ]
  },
  {
   "cell_type": "code",
   "execution_count": 25,
   "metadata": {
    "collapsed": false
   },
   "outputs": [
    {
     "name": "stdout",
     "output_type": "stream",
     "text": [
      "19.95, 19.95, 29.94, 19.96, -5.99, -14.97\n",
      "68.85\n"
     ]
    }
   ],
   "source": [
    "ol1 = (5*3.99)\n",
    "ol2 = (5*3.99)\n",
    "ol3 = (6*4.99)\n",
    "ol4 = (4*4.99)\n",
    "\n",
    "dl1 = (-0.15*10*3.99)\n",
    "dl2 = (int((3-2)/3*10)*(-4.99))\n",
    "print(\"%.2f, %.2f, %.2f, %.2f, %.2f, %.2f\" % (ol1,ol2,ol3,ol4,dl1,dl2))\n",
    "print(\"%.2f\" % (ol1+ol2+ol3+ol4+dl1+dl2))\n"
   ]
  },
  {
   "cell_type": "code",
   "execution_count": 26,
   "metadata": {
    "collapsed": false
   },
   "outputs": [
    {
     "name": "stdout",
     "output_type": "stream",
     "text": [
      "[19.950000000000003, 19.950000000000003, 29.94, 19.96]\n",
      "[-5.985, -14.97]\n"
     ]
    }
   ],
   "source": [
    "print([ol.value() for ol in po.orderLines])\n",
    "print([dl.value for dl in po.discountLines])\n"
   ]
  },
  {
   "cell_type": "code",
   "execution_count": null,
   "metadata": {
    "collapsed": false
   },
   "outputs": [],
   "source": [
    "%debug\n"
   ]
  }
 ],
 "metadata": {
  "kernelspec": {
   "display_name": "Python 3",
   "language": "python",
   "name": "python3"
  },
  "language_info": {
   "codemirror_mode": {
    "name": "ipython",
    "version": 3
   },
   "file_extension": ".py",
   "mimetype": "text/x-python",
   "name": "python",
   "nbconvert_exporter": "python",
   "pygments_lexer": "ipython3",
   "version": "3.5.1"
  }
 },
 "nbformat": 4,
 "nbformat_minor": 0
}

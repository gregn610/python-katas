{
 "cells": [
  {
   "cell_type": "markdown",
   "metadata": {},
   "source": [
    "<h2>Kata04: Data Munging</h2>"
   ]
  },
  {
   "cell_type": "markdown",
   "metadata": {},
   "source": [
    "http://codekata.com/kata/kata04-data-munging/"
   ]
  },
  {
   "cell_type": "markdown",
   "metadata": {},
   "source": [
    "<h2>Part Two: Soccer League Table</h2>\n",
    "\n",
    "The file football.dat contains the results from the English Premier League for 2001/2. The columns labeled ‘F’ and ‘A’ contain the total number of goals scored for and against each team in that season (so Arsenal scored 79 goals against opponents, and had 36 goals scored against them). Write a program to print the name of the team with the smallest difference in ‘for’ and ‘against’ goals."
   ]
  },
  {
   "cell_type": "code",
   "execution_count": 2,
   "metadata": {
    "collapsed": false
   },
   "outputs": [
    {
     "data": {
      "text/plain": [
       "['       Team            P     W    L   D    F      A     Pts',\n",
       " '    1. Arsenal         38    26   9   3    79  -  36    87',\n",
       " '    2. Liverpool       38    24   8   6    67  -  30    80',\n",
       " '    3. Manchester_U    38    24   5   9    87  -  45    77',\n",
       " '    4. Newcastle       38    21   8   9    74  -  52    71',\n",
       " '    5. Leeds           38    18  12   8    53  -  37    66',\n",
       " '    6. Chelsea         38    17  13   8    66  -  38    64',\n",
       " '    7. West_Ham        38    15   8  15    48  -  57    53',\n",
       " '    8. Aston_Villa     38    12  14  12    46  -  47    50',\n",
       " '    9. Tottenham       38    14   8  16    49  -  53    50',\n",
       " '   10. Blackburn       38    12  10  16    55  -  51    46',\n",
       " '   11. Southampton     38    12   9  17    46  -  54    45',\n",
       " '   12. Middlesbrough   38    12   9  17    35  -  47    45',\n",
       " '   13. Fulham          38    10  14  14    36  -  44    44',\n",
       " '   14. Charlton        38    10  14  14    38  -  49    44',\n",
       " '   15. Everton         38    11  10  17    45  -  57    43',\n",
       " '   16. Bolton          38     9  13  16    44  -  62    40',\n",
       " '   17. Sunderland      38    10  10  18    29  -  51    40',\n",
       " '   -------------------------------------------------------',\n",
       " '   18. Ipswich         38     9   9  20    41  -  64    36',\n",
       " '   19. Derby           38     8   6  24    33  -  63    30',\n",
       " '   20. Leicester       38     5  13  20    30  -  64    28']"
      ]
     },
     "execution_count": 2,
     "metadata": {},
     "output_type": "execute_result"
    }
   ],
   "source": [
    "!! cat ../data/football.dat"
   ]
  },
  {
   "cell_type": "code",
   "execution_count": 11,
   "metadata": {
    "collapsed": false
   },
   "outputs": [
    {
     "data": {
      "text/plain": [
       "['../data/football.dat: ASCII text']"
      ]
     },
     "execution_count": 11,
     "metadata": {},
     "output_type": "execute_result"
    }
   ],
   "source": [
    "!! file ../data/football.dat"
   ]
  },
  {
   "cell_type": "code",
   "execution_count": 3,
   "metadata": {
    "collapsed": true
   },
   "outputs": [],
   "source": [
    "import pandas as pd\n",
    "import numpy as np\n"
   ]
  },
  {
   "cell_type": "code",
   "execution_count": 48,
   "metadata": {
    "collapsed": false
   },
   "outputs": [
    {
     "data": {
      "text/html": [
       "<div>\n",
       "<table border=\"1\" class=\"dataframe\">\n",
       "  <thead>\n",
       "    <tr style=\"text-align: right;\">\n",
       "      <th></th>\n",
       "      <th>Team</th>\n",
       "      <th>P</th>\n",
       "      <th>W</th>\n",
       "      <th>L</th>\n",
       "      <th>D</th>\n",
       "      <th>F</th>\n",
       "      <th>Unnamed: 6</th>\n",
       "      <th>A</th>\n",
       "      <th>Pts</th>\n",
       "    </tr>\n",
       "  </thead>\n",
       "  <tbody>\n",
       "    <tr>\n",
       "      <th>0</th>\n",
       "      <td>1. Arsenal</td>\n",
       "      <td>38</td>\n",
       "      <td>26</td>\n",
       "      <td>9</td>\n",
       "      <td>3</td>\n",
       "      <td>79</td>\n",
       "      <td>-</td>\n",
       "      <td>36</td>\n",
       "      <td>87</td>\n",
       "    </tr>\n",
       "    <tr>\n",
       "      <th>1</th>\n",
       "      <td>2. Liverpool</td>\n",
       "      <td>38</td>\n",
       "      <td>24</td>\n",
       "      <td>8</td>\n",
       "      <td>6</td>\n",
       "      <td>67</td>\n",
       "      <td>-</td>\n",
       "      <td>30</td>\n",
       "      <td>80</td>\n",
       "    </tr>\n",
       "    <tr>\n",
       "      <th>2</th>\n",
       "      <td>3. Manchester_U</td>\n",
       "      <td>38</td>\n",
       "      <td>24</td>\n",
       "      <td>5</td>\n",
       "      <td>9</td>\n",
       "      <td>87</td>\n",
       "      <td>-</td>\n",
       "      <td>45</td>\n",
       "      <td>77</td>\n",
       "    </tr>\n",
       "    <tr>\n",
       "      <th>3</th>\n",
       "      <td>4. Newcastle</td>\n",
       "      <td>38</td>\n",
       "      <td>21</td>\n",
       "      <td>8</td>\n",
       "      <td>9</td>\n",
       "      <td>74</td>\n",
       "      <td>-</td>\n",
       "      <td>52</td>\n",
       "      <td>71</td>\n",
       "    </tr>\n",
       "    <tr>\n",
       "      <th>4</th>\n",
       "      <td>5. Leeds</td>\n",
       "      <td>38</td>\n",
       "      <td>18</td>\n",
       "      <td>12</td>\n",
       "      <td>8</td>\n",
       "      <td>53</td>\n",
       "      <td>-</td>\n",
       "      <td>37</td>\n",
       "      <td>66</td>\n",
       "    </tr>\n",
       "  </tbody>\n",
       "</table>\n",
       "</div>"
      ],
      "text/plain": [
       "              Team   P   W   L  D   F Unnamed: 6   A Pts\n",
       "0       1. Arsenal  38  26   9  3  79          -  36  87\n",
       "1     2. Liverpool  38  24   8  6  67          -  30  80\n",
       "2  3. Manchester_U  38  24   5  9  87          -  45  77\n",
       "3     4. Newcastle  38  21   8  9  74          -  52  71\n",
       "4         5. Leeds  38  18  12  8  53          -  37  66"
      ]
     },
     "execution_count": 48,
     "metadata": {},
     "output_type": "execute_result"
    }
   ],
   "source": [
    "# df = pd.read_fwf('../data/football.dat', delim_whitespace=True)\n",
    "# That's not seeing the columns ???\n",
    "\n",
    "# a few minutes trial and error\n",
    "df = pd.read_fwf('../data/football.dat', widths=(21,6,5,4,4,5,3,5,6))\n",
    "df.head()"
   ]
  },
  {
   "cell_type": "code",
   "execution_count": 54,
   "metadata": {
    "collapsed": false
   },
   "outputs": [],
   "source": [
    "df.drop(17, inplace=True)"
   ]
  },
  {
   "cell_type": "code",
   "execution_count": 62,
   "metadata": {
    "collapsed": false
   },
   "outputs": [
    {
     "data": {
      "text/plain": [
       "'8. Aston_Villa'"
      ]
     },
     "execution_count": 62,
     "metadata": {},
     "output_type": "execute_result"
    }
   ],
   "source": [
    "#pd.Series( df['F'].astype('int') - df['A'].astype('int'), index=df.index ).sort_values(ascending=True)\n",
    "\n",
    "# Clarify spec. smallest / smallest \"absolute\"???\n",
    "idx = pd.Series( df['F'].astype('int') - df['A'].astype('int'), index=df.index ).abs() \\\n",
    "    .sort_values(ascending=True) \\\n",
    "    .first_valid_index()\n",
    "    \n",
    "df.Team[idx]"
   ]
  },
  {
   "cell_type": "code",
   "execution_count": null,
   "metadata": {
    "collapsed": true
   },
   "outputs": [],
   "source": []
  }
 ],
 "metadata": {
  "kernelspec": {
   "display_name": "Python 3",
   "language": "python",
   "name": "python3"
  },
  "language_info": {
   "codemirror_mode": {
    "name": "ipython",
    "version": 3
   },
   "file_extension": ".py",
   "mimetype": "text/x-python",
   "name": "python",
   "nbconvert_exporter": "python",
   "pygments_lexer": "ipython3",
   "version": "3.5.1"
  }
 },
 "nbformat": 4,
 "nbformat_minor": 0
}

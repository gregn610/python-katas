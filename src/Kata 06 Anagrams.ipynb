{
 "cells": [
  {
   "cell_type": "markdown",
   "metadata": {},
   "source": [
    "http://codekata.com/kata/kata06-anagrams/\n",
    "\n",
    "\n",
    "\n",
    "* Kata06: Anagrams\n",
    "\n",
    "Back to non-realistic coding this week (sorry, Martin). Let’s solve some crossword puzzle clues.\n",
    "\n",
    "In England, I used to waste hour upon hour doing newspaper crosswords. As crossword fans will know, English cryptic crosswords have a totally different feel to their American counterparts: most clues involve punning or word play, and there are lots of anagrams to work through. For example, a recent Guardian crossword had:\n",
    "\n",
    "~~~\n",
    "\n",
    "  Down:\n",
    "    ..\n",
    "    21. Most unusual form of arrest (6)\n",
    "~~~\n",
    "\n",
    "The hint is the phrase ‘form of,’ indicating that we’re looking for an anagram. Sure enough ‘arrest’ has six letters, and can be arranged nicely into ‘rarest,’ meaning ‘most unusual.’ (Other anagrams include raster, raters, Sartre, and starer)\n",
    "\n",
    "A while back we had a thread on the Ruby mailing list about finding anagrams, and I’d like to resurrect it here. The challenge is fairly simple: given a file containing one word per line, print out all the combinations of words that are anagrams; each line in the output contains all the words from the input that are anagrams of each other. For example, your program might include in its output:\n",
    "\n",
    "~~~\n",
    "  kinship pinkish\n",
    "  enlist inlets listen silent\n",
    "  boaster boaters borates\n",
    "  fresher refresh\n",
    "  sinks skins\n",
    "  knits stink\n",
    "  rots sort\n",
    "~~~\n",
    "\n",
    "If you run this on the word list here you should find 20683 sets of anagrams (a total of 48162 words), including all-time favorites such as\n",
    "~~~\n",
    "crepitus cuprites pictures piecrust\n",
    "paste pates peats septa spate tapes tepas\n",
    "punctilio unpolitic\n",
    "sunders undress\n",
    "~~~\n",
    "For added programming pleasure, find the longest words that are anagrams, and find the set of anagrams containing the most words (so “parsley players replays sparely” would not win, having only four words in the set).\n",
    "Kata Objectives\n",
    "\n",
    "Apart from having some fun with words, this kata should make you think somewhat about algorithms. The simplest algorithms to find all the anagram combinations may take inordinate amounts of time to do the job. Working though alternatives should help bring the time down by orders of magnitude. To give you a possible point of comparison, I hacked a solution together in 25 lines of Ruby. It runs on this wordlist in 1.8s on a 1.7GHz i7. It’s also an interesting exercise in testing: can you write unit tests to verify that your code is working correctly before setting it to work on the full dictionary.\n"
   ]
  },
  {
   "cell_type": "code",
   "execution_count": 1,
   "metadata": {
    "collapsed": false
   },
   "outputs": [
    {
     "data": {
      "text/plain": [
       "['../data/wordlist.txt: ISO-8859 text']"
      ]
     },
     "execution_count": 1,
     "metadata": {},
     "output_type": "execute_result"
    }
   ],
   "source": [
    "!! file ../data/wordlist.txt"
   ]
  },
  {
   "cell_type": "code",
   "execution_count": 2,
   "metadata": {
    "collapsed": false
   },
   "outputs": [
    {
     "data": {
      "text/plain": [
       "['�olienne',\n",
       " '�patant',\n",
       " '�perdu',\n",
       " '�perdue',\n",
       " '�picier',\n",
       " '�piciers',\n",
       " '�pris',\n",
       " '�prise',\n",
       " '�prouvette',\n",
       " '�prouvettes',\n",
       " '�puis�',\n",
       " '�puis�e',\n",
       " '�p�e',\n",
       " \"�p�e's\",\n",
       " '�p�es',\n",
       " '�quipe',\n",
       " '�quipes',\n",
       " '�tage',\n",
       " '�tages',\n",
       " '�tag�re',\n",
       " \"�tag�re's\",\n",
       " '�tag�res',\n",
       " '�talage',\n",
       " '�talages',\n",
       " '�tape',\n",
       " '�tapes',\n",
       " '�tat',\n",
       " '�toile',\n",
       " '�toiles',\n",
       " '�tourderie',\n",
       " '�tourdi',\n",
       " '�tourdie',\n",
       " '�trang�r',\n",
       " '�trang�re',\n",
       " '�trang�res',\n",
       " '�trang�rs',\n",
       " '�trennes',\n",
       " '�trenness',\n",
       " '�trier',\n",
       " '�triers',\n",
       " '�tude',\n",
       " \"�tude's\",\n",
       " '�tudes',\n",
       " '�tui',\n",
       " \"�tui's\",\n",
       " '�tuis',\n",
       " '�volu�',\n",
       " '�volu�s',\n",
       " '�v�nement',\n",
       " '�v�nements']"
      ]
     },
     "execution_count": 2,
     "metadata": {},
     "output_type": "execute_result"
    }
   ],
   "source": [
    "\n",
    "!! tail -50 ../data/wordlist.txt\n",
    "# has accented letters and possessive 's es"
   ]
  },
  {
   "cell_type": "markdown",
   "metadata": {},
   "source": [
    "<h1>Solution 1</h1>"
   ]
  },
  {
   "cell_type": "code",
   "execution_count": 3,
   "metadata": {
    "collapsed": true
   },
   "outputs": [],
   "source": [
    "import codecs\n",
    "\n",
    "class AnagramFinder():\n",
    "    \"\"\"\n",
    "    Creates a dictionary of anagrams. \n",
    "    Each dict key is a root word with the letters scrambled i.e sorted alphabetically.\n",
    "    The dict value is a set of anagrams, containing at least the unscrambled root word.\n",
    "    \"\"\"\n",
    "    def __init__(self, dictionary_file, encoding='utf-8'):\n",
    "        self.dic = {}\n",
    "        \n",
    "        with codecs.open(dictionary_file, 'r', encoding) as f:\n",
    "            for word in f.read().split():\n",
    "                keyData = ''.join(sorted(list(word)))\n",
    "                self.dic.setdefault(keyData,set()).add(word)\n",
    "                        \n",
    "    def getAnagrams(self, word):\n",
    "        \"\"\"\n",
    "        Returns a set of anagram words\n",
    "        \"\"\"\n",
    "        _wordSorted = ''.join(sorted(list(word)))\n",
    "        \n",
    "        # Remember to take the word word out of (differnce) the set of anagrams\n",
    "        return self.dic.get(_wordSorted, set()).difference({word,})\n",
    "\n",
    "\n"
   ]
  },
  {
   "cell_type": "markdown",
   "metadata": {},
   "source": [
    "11 slocs! Python > Ruby :)"
   ]
  },
  {
   "cell_type": "markdown",
   "metadata": {},
   "source": [
    "<h1>Unit Testing</h1>"
   ]
  },
  {
   "cell_type": "code",
   "execution_count": 16,
   "metadata": {
    "collapsed": false
   },
   "outputs": [
    {
     "name": "stderr",
     "output_type": "stream",
     "text": [
      ".....\n",
      "----------------------------------------------------------------------\n",
      "Ran 5 tests in 3.720s\n",
      "\n",
      "OK\n"
     ]
    },
    {
     "data": {
      "text/plain": [
       "<unittest.runner.TextTestResult run=5 errors=0 failures=0>"
      ]
     },
     "execution_count": 16,
     "metadata": {},
     "output_type": "execute_result"
    }
   ],
   "source": [
    "from unittest import *\n",
    "\n",
    "class AnagramFinderTests(TestCase):\n",
    "    \n",
    "    @classmethod\n",
    "    def setUpClass(self):\n",
    "        self.af = AnagramFinder('../data/wordlist.txt', 'iso-8859-1')\n",
    "        \n",
    "    def setUp(self):\n",
    "        pass\n",
    "        \n",
    "    def test_dic_keys(self):\n",
    "        self.assertEqual(self.af.dic['iknst'], {'stink', 'tinks', 'skint', 'knits'})\n",
    "        \n",
    "    def test_getAnagrams1a(self):\n",
    "        self.assertEqual(self.af.getAnagrams('knits'), {'stink', 'tinks', 'skint'})\n",
    "        \n",
    "    def test_getAnagrams1b(self):\n",
    "        self.assertEqual(self.af.getAnagrams('stink'), {'knits', 'tinks', 'skint'})\n",
    "        \n",
    "    def test_anagrams_bulk1(self):\n",
    "        # Check expected results\n",
    "        self.testRoots = {\n",
    "              'kinship' :{ 'pinkish', },\n",
    "              'enlist'  :{ 'inlets', 'silent', 'tinsel', 'listen', 'elints', },\n",
    "              'boaster' :{ 'borates', 'rebatos', 'sorbate', 'boaters', },\n",
    "              'fresher' :{ 'refresh', },\n",
    "              'sinks'   :{ 'skins', },\n",
    "              'knits'   :{ 'stink', 'tinks', 'skint', },\n",
    "              'rots'    :{ 'sort', 'orts','stor', 'tors', }, # example data incorrect, see egreps\n",
    "        }\n",
    "        for tk in self.testRoots.keys():\n",
    "            anagramSet = self.af.getAnagrams(tk)\n",
    "            self.assertEqual(self.testRoots[tk], anagramSet, \"%s returned %s\" %(tk, anagramSet))\n",
    "            \n",
    "    def test_anagrams_bulk2(self):\n",
    "        # Check expected results\n",
    "        self.testRoots = {\n",
    "            'crepitus'  :{ 'cuprites','pictures','piecrust',},\n",
    "            'paste'     :{ 'pates','peats','septa','spate','tapes','tepas',},\n",
    "            'punctilio' :{ 'unpolitic',},\n",
    "            'sunders'   :{ 'undress',},\n",
    "        }\n",
    "        for tk in self.testRoots.keys():\n",
    "            anagramSet = self.af.getAnagrams(tk)\n",
    "            self.assertEqual(self.testRoots[tk], anagramSet, \"%s returned %s\" %(tk, anagramSet))\n",
    "\n",
    "\n",
    "aft = AnagramFinderTests()\n",
    "\n",
    "suite = TestLoader().loadTestsFromModule(aft)\n",
    "TextTestRunner().run(suite)"
   ]
  },
  {
   "cell_type": "code",
   "execution_count": 7,
   "metadata": {
    "collapsed": false
   },
   "outputs": [
    {
     "data": {
      "text/plain": [
       "'iknst'"
      ]
     },
     "execution_count": 7,
     "metadata": {},
     "output_type": "execute_result"
    }
   ],
   "source": [
    "''.join(sorted(list('knits')))"
   ]
  },
  {
   "cell_type": "code",
   "execution_count": 8,
   "metadata": {
    "collapsed": false
   },
   "outputs": [
    {
     "data": {
      "text/plain": [
       "True"
      ]
     },
     "execution_count": 8,
     "metadata": {},
     "output_type": "execute_result"
    }
   ],
   "source": [
    "{'skint', 'stink', 'tinks'} == {'skint', 'tinks', 'stink'}"
   ]
  },
  {
   "cell_type": "code",
   "execution_count": 9,
   "metadata": {
    "collapsed": false
   },
   "outputs": [
    {
     "data": {
      "text/plain": [
       "['tors']"
      ]
     },
     "execution_count": 9,
     "metadata": {},
     "output_type": "execute_result"
    }
   ],
   "source": [
    "!! egrep '^tors$' ../data/wordlist.txt"
   ]
  },
  {
   "cell_type": "code",
   "execution_count": 10,
   "metadata": {
    "collapsed": false
   },
   "outputs": [
    {
     "data": {
      "text/plain": [
       "['orts']"
      ]
     },
     "execution_count": 10,
     "metadata": {},
     "output_type": "execute_result"
    }
   ],
   "source": [
    "!! egrep '^orts$' ../data/wordlist.txt"
   ]
  },
  {
   "cell_type": "code",
   "execution_count": 11,
   "metadata": {
    "collapsed": false
   },
   "outputs": [
    {
     "data": {
      "text/plain": [
       "['stor']"
      ]
     },
     "execution_count": 11,
     "metadata": {},
     "output_type": "execute_result"
    }
   ],
   "source": [
    "!! egrep '^stor$' ../data/wordlist.txt"
   ]
  },
  {
   "cell_type": "code",
   "execution_count": 12,
   "metadata": {
    "collapsed": false
   },
   "outputs": [
    {
     "data": {
      "text/plain": [
       "[]"
      ]
     },
     "execution_count": 12,
     "metadata": {},
     "output_type": "execute_result"
    }
   ],
   "source": [
    "!! egrep '^asdf$' ../data/wordlist.txt\n"
   ]
  },
  {
   "cell_type": "markdown",
   "metadata": {},
   "source": [
    "<h1> Results 1</h1>"
   ]
  },
  {
   "cell_type": "code",
   "execution_count": 5,
   "metadata": {
    "collapsed": false
   },
   "outputs": [
    {
     "name": "stdout",
     "output_type": "stream",
     "text": [
      "CPU times: user 3.06 s, sys: 154 ms, total: 3.22 s\n",
      "Wall time: 3.54 s\n"
     ]
    }
   ],
   "source": [
    "%time af = AnagramFinder('../data/wordlist.txt', 'iso-8859-1')"
   ]
  },
  {
   "cell_type": "code",
   "execution_count": 6,
   "metadata": {
    "collapsed": false
   },
   "outputs": [
    {
     "name": "stdout",
     "output_type": "stream",
     "text": [
      "CPU times: user 28 µs, sys: 1 µs, total: 29 µs\n",
      "Wall time: 34.8 µs\n"
     ]
    },
    {
     "data": {
      "text/plain": [
       "{'skint', 'stink', 'tinks'}"
      ]
     },
     "execution_count": 6,
     "metadata": {},
     "output_type": "execute_result"
    }
   ],
   "source": [
    "%time af.getAnagrams('knits')"
   ]
  },
  {
   "cell_type": "markdown",
   "metadata": {},
   "source": [
    "<h1>Largest & Longest Results</h1>"
   ]
  },
  {
   "cell_type": "code",
   "execution_count": 18,
   "metadata": {
    "collapsed": false
   },
   "outputs": [
    {
     "name": "stdout",
     "output_type": "stream",
     "text": [
      "Found 20683 sets of anagrams\n"
     ]
    }
   ],
   "source": [
    "# Don't count lone words\n",
    "# Maybe refactor so af.dic doesn't include anagramless keys\n",
    "print(\"Found %d sets of anagrams\" % len([k for k in af.dic.keys() if len(af.dic[k]) > 1]))"
   ]
  },
  {
   "cell_type": "code",
   "execution_count": 14,
   "metadata": {
    "collapsed": false
   },
   "outputs": [
    {
     "name": "stdout",
     "output_type": "stream",
     "text": [
      "Largest set of anagrams is {'slater', 'tarsel', 'alters', 'estral', 'talers', 'artels', 'stelar', 'laster', 'salter', 'rastle', 'ratels', 'alerts', 'staler'}\n"
     ]
    }
   ],
   "source": [
    "maxKey= None\n",
    "maxLen = 0\n",
    "for k, v in af.dic.items():\n",
    "    if len(v) > maxLen:\n",
    "        maxKey = k\n",
    "        maxLen = len(af.dic[k])\n",
    "print(\"Largest set of anagrams is %s\" %(af.dic[maxKey]))\n",
    "        "
   ]
  },
  {
   "cell_type": "code",
   "execution_count": 15,
   "metadata": {
    "collapsed": false
   },
   "outputs": [
    {
     "name": "stdout",
     "output_type": "stream",
     "text": [
      "Longest anagrams are {'electroacoustically', 'acoustoelectrically'} \n"
     ]
    }
   ],
   "source": [
    "maxKey= None\n",
    "maxLen = 0\n",
    "tieBreak = 0\n",
    "for k, v in af.dic.items():\n",
    "    if ((len(k)) > maxLen) and len(af.dic[k])>1:\n",
    "        maxLen = len(k)\n",
    "        tieBreak = len(af.dic[k])\n",
    "        maxKey = k\n",
    "    elif ((len(k)) == maxLen):\n",
    "        if len(af.dic[k]) > tieBreak:\n",
    "            maxLen = len(k)\n",
    "            tieBreak = len(af.dic[k])\n",
    "            maxKey = k\n",
    "        \n",
    "print(\"Longest anagrams are %s \" % (af.dic[maxKey]))"
   ]
  },
  {
   "cell_type": "code",
   "execution_count": null,
   "metadata": {
    "collapsed": true
   },
   "outputs": [],
   "source": []
  }
 ],
 "metadata": {
  "kernelspec": {
   "display_name": "Python 3",
   "language": "python",
   "name": "python3"
  },
  "language_info": {
   "codemirror_mode": {
    "name": "ipython",
    "version": 3
   },
   "file_extension": ".py",
   "mimetype": "text/x-python",
   "name": "python",
   "nbconvert_exporter": "python",
   "pygments_lexer": "ipython3",
   "version": "3.5.1"
  }
 },
 "nbformat": 4,
 "nbformat_minor": 0
}

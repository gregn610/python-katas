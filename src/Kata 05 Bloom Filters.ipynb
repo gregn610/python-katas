{
 "cells": [
  {
   "cell_type": "markdown",
   "metadata": {},
   "source": [
    "http://codekata.com/kata/kata05-bloom-filters/"
   ]
  },
  {
   "cell_type": "markdown",
   "metadata": {},
   "source": [
    "Bloom filters are a 30-year-old statistical way of testing for membership in a set. They greatly reduce the amount of storage you need to represent the set, but at a price: they’ll sometimes report that something is in the set when it isn’t (but it’ll never do the opposite; if the filter says that the set doesn’t contain your object, you know that it doesn’t). And the nice thing is you can control the accuracy; the more memory you’re prepared to give the algorithm, the fewer false positives you get. I once wrote a spell checker for a PDP-11 which stored a dictionary of 80,000 words in 16kbytes, and I very rarely saw it let though an incorrect word. (Update: I must have mis-remembered these figures, because they are not in line with the theory. Unfortunately, I can no longer read the 8” floppies holding the source, so I can’t get the correct numbers. Let’s just say that I got a decent sized dictionary, along with the spell checker, all in under 64k.)\n",
    "\n",
    "Bloom filters are very simple. Take a big array of bits, initially all zero. Then take the things you want to look up (in our case we’ll use a dictionary of words). Produce ‘n’ independent hash values for each word. Each hash is a number which is used to set the corresponding bit in the array of bits. Sometimes there’ll be clashes, where the bit will already be set from some other word. This doesn’t matter.\n",
    "\n",
    "To check to see of a new word is already in the dictionary, perform the same hashes on it that you used to load the bitmap. Then check to see if each of the bits corresponding to these hash values is set. If any bit is not set, then you never loaded that word in, and you can reject it.\n",
    "\n",
    "The Bloom filter reports a false positive when a set of hashes for a word all end up corresponding to bits that were set previously by other words. In practice this doesn’t happen too often as long as the bitmap isn’t too heavily loaded with one-bits (clearly if every bit is one, then it’ll give a false positive on every lookup). There’s a discussion of the math in Bloom filters at www.cs.wisc.edu/~cao/papers/summary-cache/node8.html.\n",
    "\n",
    "So, this kata is fairly straightforward. Implement a Bloom filter based spell checker. You’ll need some kind of bitmap, some hash functions, and a simple way of reading in the dictionary and then the words to check. For the hash function, remember that you can always use something that generates a fairly long hash (such as MD5) and then take your smaller hash values by extracting sequences of bits from the result. On a Unix box you can find a list of words in /usr/dict/words (or possibly in /usr/share/dict/words). For others, I’ve put a word list up here.1\n",
    "\n",
    "Play with using different numbers of hashes, and with different bitmap sizes.\n",
    "\n",
    "Part two of the exercise is optional. Try generating random 5-character words and feeding them in to your spell checker. For each word that it says it OK, look it up in the original dictionary. See how many false positives you get.\n"
   ]
  },
  {
   "cell_type": "markdown",
   "metadata": {},
   "source": [
    "Avoiding anything python\n",
    "\n",
    "https://en.wikipedia.org/wiki/Bloom_filter\n",
    "\n",
    "https://wiki.python.org/moin/BitManipulation\n",
    "\n",
    "https://www.jasondavies.com/bloomfilter/\n"
   ]
  },
  {
   "cell_type": "code",
   "execution_count": 1,
   "metadata": {
    "collapsed": false
   },
   "outputs": [
    {
     "data": {
      "text/plain": [
       "['  235886 /usr/share/dict/words']"
      ]
     },
     "execution_count": 1,
     "metadata": {},
     "output_type": "execute_result"
    }
   ],
   "source": [
    "!! wc -l  /usr/share/dict/words\n"
   ]
  },
  {
   "cell_type": "code",
   "execution_count": 26,
   "metadata": {
    "collapsed": false
   },
   "outputs": [
    {
     "data": {
      "text/plain": [
       "['Collecting mmh3',\n",
       " '  Downloading mmh3-2.3.1.tar.gz',\n",
       " 'Building wheels for collected packages: mmh3',\n",
       " '  Running setup.py bdist_wheel for mmh3: started',\n",
       " \"  Running setup.py bdist_wheel for mmh3: finished with status 'error'\",\n",
       " '  Complete output from command /Library/Frameworks/Python.framework/Versions/3.5/bin/python3.5 -u -c \"import setuptools, tokenize;__file__=\\'/private/var/folders/ch/21q6lfkj3zd0gc3zl1cpsfh00000gq/T/pip-build-8nufj3sd/mmh3/setup.py\\';exec(compile(getattr(tokenize, \\'open\\', open)(__file__).read().replace(\\'\\\\r\\\\n\\', \\'\\\\n\\'), __file__, \\'exec\\'))\" bdist_wheel -d /var/folders/ch/21q6lfkj3zd0gc3zl1cpsfh00000gq/T/tmp5no60mkfpip-wheel- --python-tag cp35:',\n",
       " '  usage: -c [global_opts] cmd1 [cmd1_opts] [cmd2 [cmd2_opts] ...]',\n",
       " '     or: -c --help [cmd1 cmd2 ...]',\n",
       " '     or: -c --help-commands',\n",
       " '     or: -c cmd --help',\n",
       " '  ',\n",
       " \"  error: invalid command 'bdist_wheel'\",\n",
       " '  ',\n",
       " '  ----------------------------------------',\n",
       " '  Failed building wheel for mmh3',\n",
       " '  Running setup.py clean for mmh3',\n",
       " 'Failed to build mmh3',\n",
       " 'Installing collected packages: mmh3',\n",
       " '  Running setup.py install for mmh3: started',\n",
       " \"    Running setup.py install for mmh3: finished with status 'done'\",\n",
       " 'Successfully installed mmh3']"
      ]
     },
     "execution_count": 26,
     "metadata": {},
     "output_type": "execute_result"
    }
   ],
   "source": [
    "!! pip install mmh3"
   ]
  },
  {
   "cell_type": "code",
   "execution_count": 140,
   "metadata": {
    "collapsed": false
   },
   "outputs": [
    {
     "data": {
      "text/plain": [
       "b'aE\\xf5\\x01W\\x86q\\xe2\\x87}\\xba+\\xe4\\x87\\xaf~'"
      ]
     },
     "execution_count": 140,
     "metadata": {},
     "output_type": "execute_result"
    }
   ],
   "source": [
    "import mmh3\n",
    "\n",
    "mmh3.hash('foo') # 32 bit signed int\n",
    "#-156908512\n",
    "mmh3.hash64('foo') # two 64 bit signed ints\n",
    "#(-2129773440516405919, 9128664383759220103)\n",
    "\n",
    "mmh3.hash('foo', 42) # uses 42 for its seed\n",
    "#-1322301282\n",
    "\n",
    "#hash64 and hash_bytes have the third argument for architecture optimization. Use True for x64 and False for x86 (default: True).:\n",
    "mmh3.hash64('foo', 42, True)\n",
    "#(-840311307571801102, -6739155424061121879)\n",
    "\n",
    "mmh3.hash_bytes('foo') # 196 bit value as bytes\n",
    "#'aE\\xf5\\x01W\\x86q\\xe2\\x87}\\xba+\\xe4\\x87\\xaf~'"
   ]
  },
  {
   "cell_type": "code",
   "execution_count": 141,
   "metadata": {
    "collapsed": false
   },
   "outputs": [],
   "source": [
    "import numpy\n",
    "import random\n",
    "import mmh3\n",
    "\n",
    "class BloomFilter():\n",
    "    def __init__(self, msize=196, k=3):\n",
    "        self.m = [False]*msize                      # The \"present\" bits\n",
    "        self.seeds = random.sample(range(msize), k) # k random, non overlapping, numbers < m\n",
    "                \n",
    "        # an array[k] of anon/lambda functions, each using the appropriate seed.\n",
    "        # hmm. Quick detour into lambdas, closures and scopes. Using seed2=s trick.\n",
    "        self.hashFunctions = [(lambda word,seed2=s: numpy.uint32( numpy.int32(mmh3.hash(word, seed2)))) for s in self.seeds]\n",
    "\n",
    "    \n",
    "    def add(self, testWord):\n",
    "        for hf in self.hashFunctions:     \n",
    "            idx = hf(testWord) % len(self.m) # modulo because the size of m is usually less than the uint32 hash\n",
    "            self.m[idx] = True\n",
    "    \n",
    "    def test(self, testWord):\n",
    "        for hf in self.hashFunctions:\n",
    "            idx = hf(testWord) % len(self.m) # modulo because the size of m is usually less than the uint32 hash\n",
    "            if not self.m[idx]:\n",
    "                return False # Drop out asap\n",
    "            \n",
    "        # all masks match\n",
    "        return True\n",
    "    \n",
    "    def reset(self):\n",
    "        self.m = [False]*len(self.m)\n",
    "    \n",
    "    "
   ]
  },
  {
   "cell_type": "code",
   "execution_count": 165,
   "metadata": {
    "collapsed": false
   },
   "outputs": [
    {
     "name": "stderr",
     "output_type": "stream",
     "text": [
      "......\n",
      "----------------------------------------------------------------------\n",
      "Ran 6 tests in 0.036s\n",
      "\n",
      "OK\n"
     ]
    },
    {
     "data": {
      "text/plain": [
       "<unittest.runner.TextTestResult run=6 errors=0 failures=0>"
      ]
     },
     "execution_count": 165,
     "metadata": {},
     "output_type": "execute_result"
    }
   ],
   "source": [
    "from io import StringIO\n",
    "from unittest import *\n",
    "import string\n",
    "import random\n",
    "\n",
    "class BloomFilterTests(TestCase):\n",
    "    def _junkWord(self, size=6, chars=string.ascii_uppercase + string.digits):\n",
    "        \"\"\"\n",
    "        thx: http://stackoverflow.com/a/2257449\n",
    "        \"\"\"\n",
    "        return ''.join(random.choice(chars) for _ in range(size))\n",
    "    \n",
    "    @classmethod\n",
    "    def setUpClass(self):\n",
    "        self.bf = BloomFilter()\n",
    "        self.testWords = ['accessibility','accessoriness','accidentalism',\n",
    "                          'accidentalist','accidentality','acclimatation','acclimatement' ]\n",
    "        \n",
    "    def setUp(self):\n",
    "        for w in self.testWords:\n",
    "            #print(\"Adding test word: %s\" %(w))\n",
    "            self.bf.add(w)\n",
    "        \n",
    "        \n",
    "    \n",
    "    def test_hashFunctionsPositive(self):\n",
    "        #Hashing is producing positive ints\n",
    "        self.assertTrue(self.bf.hashFunctions[0]('qwerty') > 0)\n",
    "        self.assertTrue(self.bf.hashFunctions[1]('qwerty') > 0)\n",
    "        self.assertTrue(self.bf.hashFunctions[2]('qwerty') > 0)\n",
    "        \n",
    "    def test_hashFunctionsDiffer(self):    \n",
    "        # Check that the 3 hashes are different - the seeding is working\n",
    "        self.assertTrue(self.bf.hashFunctions[0]('qwerty') != self.bf.hashFunctions[1]('qwerty'))\n",
    "        self.assertTrue(self.bf.hashFunctions[1]('qwerty') != self.bf.hashFunctions[2]('qwerty'))\n",
    "        self.assertTrue(self.bf.hashFunctions[2]('qwerty') != self.bf.hashFunctions[0]('qwerty'))\n",
    "        \n",
    "        \n",
    "        \n",
    "    def test_bloom_single (self):\n",
    "        testWord = 'Supercalafragalistic'\n",
    "        self.bf.add(testWord)\n",
    "        self.assertTrue(self.bf.test(testWord), \"Word %s not found\" %(testWord))\n",
    "        \n",
    "\n",
    "    def test_bloom_test_present(self):\n",
    "        for testWord in self.testWords:\n",
    "            self.assertTrue(self.bf.test(testWord), \"Word %s not found\" %(testWord))\n",
    "\n",
    "\n",
    "    def test_bloom_test_absent(self):\n",
    "        junkWords = [self._junkWord() for x in range(10)]\n",
    "        for testWord in junkWords:            \n",
    "            self.assertFalse(self.bf.test(testWord), \"False positive: %s present\" % (testWord))\n",
    "            \n",
    "    def test_reset(self):\n",
    "        # Make sure the m is extra populated\n",
    "        for idx in range(10):\n",
    "            self.bf.add(self._junkWord())\n",
    "        self.assertTrue(any(self.bf.m))\n",
    "        \n",
    "        self.bf.reset()\n",
    "        self.assertFalse(any(self.bf.m))\n",
    "        \n",
    "\n",
    "bft = BloomFilterTests()\n",
    "\n",
    "suite = TestLoader().loadTestsFromModule(bft)\n",
    "TextTestRunner().run(suite)"
   ]
  },
  {
   "cell_type": "code",
   "execution_count": 143,
   "metadata": {
    "collapsed": false
   },
   "outputs": [
    {
     "data": {
      "text/plain": [
       "['A',\n",
       " 'a',\n",
       " 'aa',\n",
       " 'aal',\n",
       " 'aalii',\n",
       " 'aam',\n",
       " 'Aani',\n",
       " 'aardvark',\n",
       " 'aardwolf',\n",
       " 'Aaron',\n",
       " 'Aaronic',\n",
       " 'Aaronical',\n",
       " 'Aaronite',\n",
       " 'Aaronitic',\n",
       " 'Aaru',\n",
       " 'Ab',\n",
       " 'aba',\n",
       " 'Ababdeh',\n",
       " 'Ababua',\n",
       " 'abac']"
      ]
     },
     "execution_count": 143,
     "metadata": {},
     "output_type": "execute_result"
    }
   ],
   "source": [
    "!! head -20 /usr/share/dict/words"
   ]
  },
  {
   "cell_type": "code",
   "execution_count": 144,
   "metadata": {
    "collapsed": false
   },
   "outputs": [
    {
     "data": {
      "text/plain": [
       "['Requirement already satisfied (use --upgrade to upgrade): matplotlib in /Users/gregn/Projects/Software/codekatas/venv/lib/python3.5/site-packages',\n",
       " 'Requirement already satisfied (use --upgrade to upgrade): numpy>=1.6 in /Users/gregn/Projects/Software/codekatas/venv/lib/python3.5/site-packages (from matplotlib)',\n",
       " 'Requirement already satisfied (use --upgrade to upgrade): pyparsing!=2.0.0,!=2.0.4,>=1.5.6 in /Users/gregn/Projects/Software/codekatas/venv/lib/python3.5/site-packages (from matplotlib)',\n",
       " 'Requirement already satisfied (use --upgrade to upgrade): cycler in /Users/gregn/Projects/Software/codekatas/venv/lib/python3.5/site-packages (from matplotlib)',\n",
       " 'Requirement already satisfied (use --upgrade to upgrade): pytz in /Users/gregn/Projects/Software/codekatas/venv/lib/python3.5/site-packages (from matplotlib)',\n",
       " 'Requirement already satisfied (use --upgrade to upgrade): python-dateutil in /Users/gregn/Projects/Software/codekatas/venv/lib/python3.5/site-packages (from matplotlib)',\n",
       " 'Requirement already satisfied (use --upgrade to upgrade): six in /Users/gregn/Projects/Software/codekatas/venv/lib/python3.5/site-packages (from cycler->matplotlib)']"
      ]
     },
     "execution_count": 144,
     "metadata": {},
     "output_type": "execute_result"
    }
   ],
   "source": [
    "!! pip install matplotlib"
   ]
  },
  {
   "cell_type": "code",
   "execution_count": 145,
   "metadata": {
    "collapsed": false
   },
   "outputs": [],
   "source": [
    "%matplotlib inline\n",
    "\n",
    "import matplotlib\n",
    "import numpy as np\n",
    "import matplotlib.pyplot as plt"
   ]
  },
  {
   "cell_type": "code",
   "execution_count": 161,
   "metadata": {
    "collapsed": false,
    "scrolled": true
   },
   "outputs": [
    {
     "name": "stdout",
     "output_type": "stream",
     "text": [
      "abdominoscope\n",
      "abdominoscopy\n",
      "abiogenetical\n",
      "abiologically\n",
      "aboriginality\n",
      "abortifacient\n",
      "abranchialism\n",
      "absorbability\n",
      "abstentionist\n",
      "abstractional\n",
      "abstractively\n",
      "abyssopelagic\n",
      "academization\n",
      "Acanthocereus\n",
      "acanthopodous\n",
      "acanthopteran\n",
      "acaridomatium\n",
      "acarocecidium\n",
      "acatamathesia\n",
      "acceleratedly\n",
      "accelerograph\n",
      "accelerometer\n",
      "accendibility\n",
      "acceptability\n",
      "acceptilation\n",
      "accessariness\n",
      "accessaryship\n",
      "accessibility\n",
      "accessoriness\n",
      "accidentalism\n",
      "accidentalist\n",
      "accidentality\n",
      "acclimatation\n",
      "acclimatement\n",
      "accombination\n",
      "accommodately\n",
      "accommodating\n",
      "accommodation\n",
      "accommodative\n",
      "accompaniment\n",
      "accorporation\n",
      "accreditation\n",
      "acculturation\n",
      "acenaphthenyl\n",
      "acetabuliform\n",
      "acetalization\n",
      "acetanisidide\n",
      "acetbromamide\n",
      "acethydrazide\n",
      "acetification\n",
      "acetoarsenite\n",
      "acetometrical\n",
      "acetomorphine\n",
      "acetonization\n",
      "acetonylidene\n",
      "acetopiperone\n",
      "acetothienone\n",
      "acetylacetone\n",
      "acetylbenzene\n",
      "acetylbenzoic\n",
      "acetylcholine\n",
      "acetylcyanide\n",
      "acetylenation\n",
      "acetylglycine\n",
      "acetylization\n",
      "Achaemenidian\n",
      "achromaticity\n",
      "achromatocyte\n",
      "achromatopsia\n",
      "Achromobacter\n",
      "achroodextrin\n",
      "acidification\n",
      "acidimetrical\n",
      "Acipenseridae\n",
      "acotyledonous\n",
      "acquiescement\n",
      "acquiescently\n",
      "acquiescingly\n",
      "acquirability\n",
      "acquisitively\n",
      "acrimoniously\n",
      "acroaesthesia\n",
      "acroarthritis\n",
      "acrobatically\n",
      "acrocephalous\n",
      "Acroceratidae\n",
      "Acroceraunian\n",
      "Acrochordidae\n",
      "Acrochordinae\n",
      "acrologically\n",
      "acroparalysis\n",
      "acropathology\n",
      "acrosphacelus\n",
      "Acrothoracica\n",
      "acrylaldehyde\n",
      "acrylonitrile\n",
      "Actinidiaceae\n",
      "actiniochrome\n",
      "Actiniomorpha\n",
      "actinocarpous\n",
      "actinocrinite\n",
      "actinocutitis\n",
      "actinodromous\n",
      "actinomorphic\n",
      "actinomycosis\n",
      "actinomycotic\n",
      "Actinomyxidia\n",
      "actinophorous\n",
      "actinopterous\n",
      "actinotherapy\n",
      "actinotoxemia\n",
      "actinouranium\n",
      "actualization\n",
      "acyanoblepsia\n",
      "adamantoblast\n",
      "additamentary\n",
      "addleheadedly\n",
      "Addressograph\n",
      "adelomorphous\n",
      "adenemphraxis\n",
      "adenocancroid\n",
      "adenofibrosis\n",
      "adenolymphoma\n",
      "adenometritis\n",
      "adenophlegmon\n",
      "adenophyllous\n",
      "adhesivemeter\n",
      "adiabatically\n",
      "adiaphoristic\n",
      "adiathermancy\n",
      "adipoceriform\n",
      "admeasurement\n",
      "admensuration\n",
      "administerial\n",
      "administrable\n",
      "administrator\n",
      "admirableness\n",
      "admissibility\n",
      "admonishingly\n",
      "admonitionist\n",
      "admortization\n",
      "adrenalectomy\n",
      "adscriptitius\n",
      "adstipulation\n",
      "adularescence\n",
      "adumbratively\n",
      "adventurement\n",
      "adventureship\n",
      "adventuresome\n",
      "adventurously\n",
      "adversatively\n",
      "advertisement\n",
      "advisableness\n",
      "aeolharmonica\n",
      "aeolopantalon\n",
      "aerobiologist\n",
      "aerodynamical\n",
      "aerogenically\n",
      "aerogeologist\n",
      "aerographical\n",
      "aerolithology\n",
      "aeromaechanic\n",
      "aeromechanics\n",
      "aeroperitonia\n",
      "aerophilately\n",
      "aerotechnical\n",
      "aerotonometer\n",
      "aerotonometry\n",
      "Aeschynanthus\n",
      "aesthetically\n",
      "affectibility\n",
      "affectionally\n",
      "affenpinscher\n",
      "affirmatively\n",
      "afflictedness\n",
      "afforestation\n",
      "affreightment\n",
      "affrightfully\n",
      "affrightingly\n",
      "affrontedness\n",
      "Afrikanderdom\n",
      "Afrikanderism\n",
      "aftercataract\n",
      "afterlifetime\n",
      "aftermarriage\n",
      "afterplanting\n",
      "afterpressure\n",
      "afterripening\n",
      "afterswarming\n",
      "agastroneuria\n",
      "Agelacrinites\n",
      "agglomeration\n",
      "agglomerative\n",
      "agglutination\n",
      "agglutinative\n",
      "aggradational\n",
      "aggrandizable\n",
      "aggravatingly\n",
      "aggregateness\n",
      "aggressionist\n"
     ]
    }
   ],
   "source": [
    "\n",
    "bf = BloomFilter(msize=196*196)\n",
    "i = 1\n",
    "# Load the first 200 13 letter words into the bloomfilter\n",
    "with open('/usr/share/dict/words', 'r') as f:\n",
    "    for w in f.read().split():\n",
    "        if len(w) == 13:\n",
    "            bf.add(w)\n",
    "            i += 1\n",
    "            print(w)\n",
    "            if (i> 200):\n",
    "                break\n",
    "            \n",
    "\n",
    "        \n"
   ]
  },
  {
   "cell_type": "code",
   "execution_count": 166,
   "metadata": {
    "collapsed": false
   },
   "outputs": [
    {
     "data": {
      "image/png": "[encoded data removed]",
      "text/plain": [
       "<matplotlib.figure.Figure at 0x105b4ecc0>"
      ]
     },
     "metadata": {},
     "output_type": "display_data"
    }
   ],
   "source": [
    "# Resize the m array into a 2D grid for displaying density\n",
    "arr = (np.resize([x for x in bf.m], (196, 196))).astype('int')\n",
    "im = plt.imshow(arr, cmap='Greys')\n",
    "plt.colorbar(im, orientation='horizontal')\n",
    "plt.show()"
   ]
  },
  {
   "cell_type": "code",
   "execution_count": 167,
   "metadata": {
    "collapsed": false
   },
   "outputs": [
    {
     "name": "stdout",
     "output_type": "stream",
     "text": [
      "False positive 96PS9ZXE0Y9U0 after 178441 tries\n"
     ]
    }
   ],
   "source": [
    "def junkWord(size=6, chars=string.ascii_uppercase + string.digits):\n",
    "    return ''.join(random.choice(chars) for _ in range(size))\n",
    "\n",
    "\n",
    "i = 1\n",
    "jw = junkWord(size=13)\n",
    "while(not bf.test(jw)):\n",
    "    if(i < 10**6):\n",
    "        jw = junkWord(size=13)\n",
    "        i += 1\n",
    "    else:\n",
    "        break\n",
    "        \n",
    "        \n",
    "if(bf.test(jw) ):\n",
    "    print(\"False positive %s after %d tries\" % (jw,i))\n",
    "else:\n",
    "    print(\"No false positives in %d tries\" % i)"
   ]
  },
  {
   "cell_type": "code",
   "execution_count": null,
   "metadata": {
    "collapsed": true
   },
   "outputs": [],
   "source": []
  }
 ],
 "metadata": {
  "kernelspec": {
   "display_name": "Python 3",
   "language": "python",
   "name": "python3"
  },
  "language_info": {
   "codemirror_mode": {
    "name": "ipython",
    "version": 3
   },
   "file_extension": ".py",
   "mimetype": "text/x-python",
   "name": "python",
   "nbconvert_exporter": "python",
   "pygments_lexer": "ipython3",
   "version": "3.5.1"
  }
 },
 "nbformat": 4,
 "nbformat_minor": 0
}

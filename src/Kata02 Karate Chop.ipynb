{
 "cells": [
  {
   "cell_type": "markdown",
   "metadata": {},
   "source": [
    "http://codekata.com/kata/kata02-karate-chop/"
   ]
  },
  {
   "cell_type": "markdown",
   "metadata": {},
   "source": [
    "A binary chop (sometimes called the more prosaic binary search) finds the position of value in a sorted array of values. It achieves some efficiency by halving the number of items under consideration each time it probes the values: in the first pass it determines whether the required value is in the top or the bottom half of the list of values. In the second pass in considers only this half, again dividing it in to two. It stops when it finds the value it is looking for, or when it runs out of array to search. Binary searches are a favorite of CS lecturers.\n",
    "\n",
    "This Kata is straightforward. Implement a binary search routine (using the specification below) in the language and technique of your choice. Tomorrow, implement it again, using a totally different technique. Do the same the next day, until you have five totally unique implementations of a binary chop. (For example, one solution might be the traditional iterative approach, one might be recursive, one might use a functional style passing array slices around, and so on).\n",
    "\n",
    "<h2>Goals</h2>\n",
    "\n",
    "This Kata has three separate goals:\n",
    "\n",
    " * As you’re coding each algorithm, keep a note of the kinds of error you encounter. A binary search is a ripe breeding ground for “off by one” and fencepost errors. As you progress through the week, see if the frequency of these errors decreases (that is, do you learn from experience in one technique when it comes to coding with a different technique?).\n",
    " * What can you say about the relative merits of the various techniques you’ve chosen? Which is the most likely to make it in to production code? Which was the most fun to write? Which was the hardest to get working? And for all these questions, ask yourself “why?”.\n",
    " * It’s fairly hard to come up with five unique approaches to a binary chop. How did you go about coming up with approaches four and five? What techniques did you use to fire those “off the wall” neurons?\n",
    "\n",
    "<h2>Specification</h2>\n",
    "\n",
    "Write a binary chop method that takes an integer search target and a sorted array of integers. It should return the integer index of the target in the array, or -1 if the target is not in the array. \n",
    "The signature will logically be:\n",
    "\n",
    "    1\tchop(int, array_of_int)  -> int\n",
    "\n",
    "You can assume that the array has less than 100,000 elements. For the purposes of this Kata, time and memory performance are not issues (assuming the chop terminates before you get bored and kill it, and that you have enough RAM to run it).\n",
    "\n",
    "<h2>Test Data</h2>\n",
    "\n",
    "Here is the Test::Unit code I used when developing my methods. \n",
    "Feel free to add to it. \n",
    "The tests assume that array indices start at zero. You’ll probably have to do a couple of global search-and-replaces to make this compile in your language of choice (unless your enlightened choice happens to be Ruby).\n",
    "<code>   \n",
    "def test_chop\n",
    "    assert_equal(-1, chop(3, []))\n",
    "    assert_equal(-1, chop(3, [1]))\n",
    "    assert_equal(0,  chop(1, [1]))\n",
    "    #\n",
    "    assert_equal(0,  chop(1, [1, 3, 5]))\n",
    "    assert_equal(1,  chop(3, [1, 3, 5]))\n",
    "    assert_equal(2,  chop(5, [1, 3, 5]))\n",
    "    assert_equal(-1, chop(0, [1, 3, 5]))\n",
    "    assert_equal(-1, chop(2, [1, 3, 5]))\n",
    "    assert_equal(-1, chop(4, [1, 3, 5]))\n",
    "    assert_equal(-1, chop(6, [1, 3, 5]))\n",
    "    #\n",
    "    assert_equal(0,  chop(1, [1, 3, 5, 7]))\n",
    "    assert_equal(1,  chop(3, [1, 3, 5, 7]))\n",
    "    assert_equal(2,  chop(5, [1, 3, 5, 7]))\n",
    "    assert_equal(3,  chop(7, [1, 3, 5, 7]))\n",
    "    assert_equal(-1, chop(0, [1, 3, 5, 7]))\n",
    "    assert_equal(-1, chop(2, [1, 3, 5, 7]))\n",
    "    assert_equal(-1, chop(4, [1, 3, 5, 7]))\n",
    "    assert_equal(-1, chop(6, [1, 3, 5, 7]))\n",
    "    assert_equal(-1, chop(8, [1, 3, 5, 7]))\n",
    "end\n",
    "</code>"
   ]
  },
  {
   "cell_type": "code",
   "execution_count": null,
   "metadata": {
    "collapsed": true
   },
   "outputs": [],
   "source": [
    "import pdb"
   ]
  },
  {
   "cell_type": "markdown",
   "metadata": {},
   "source": [
    "# Impl. 1 - recursion"
   ]
  },
  {
   "cell_type": "code",
   "execution_count": 46,
   "metadata": {
    "collapsed": false
   },
   "outputs": [],
   "source": [
    "def recurse(target, array, lb, rb):    \n",
    "    i = lb + int((rb-lb)/2)\n",
    "    if (i+1 > len(array)):\n",
    "        return -1\n",
    "    elif (target == array[i] ):\n",
    "        return i\n",
    "    elif ( lb >= rb):\n",
    "        return -1\n",
    "    elif ( target > array[i] ):\n",
    "        return recurse(target, array, i+1, rb)\n",
    "    else:\n",
    "        return recurse(target, array, lb, i)\n",
    "\n",
    "def chop( target, array):\n",
    "    lb = 0\n",
    "    rb = len(array) -1\n",
    "    return recurse( target, array, lb, rb)"
   ]
  },
  {
   "cell_type": "markdown",
   "metadata": {},
   "source": [
    "# Impl. 2  - loops without recursion"
   ]
  },
  {
   "cell_type": "code",
   "execution_count": 50,
   "metadata": {
    "collapsed": true
   },
   "outputs": [],
   "source": [
    "def chop(target, array):\n",
    "    lb = 0\n",
    "    rb = len(array) -1\n",
    "    while (True):\n",
    "        i = lb + int((rb-lb)/2)\n",
    "        if (i+1 > len(array)):\n",
    "            return -1\n",
    "        elif (target == array[i] ):\n",
    "            return i\n",
    "        elif ( lb >= rb):\n",
    "            return -1\n",
    "        elif ( target > array[i] ):\n",
    "            lb = i + 1\n",
    "        else:\n",
    "            rb = i\n",
    "\n",
    "\n",
    "        "
   ]
  },
  {
   "cell_type": "code",
   "execution_count": null,
   "metadata": {
    "collapsed": true
   },
   "outputs": [],
   "source": [
    "# Impl. 5 idea - use list comprehensions ???"
   ]
  },
  {
   "cell_type": "code",
   "execution_count": null,
   "metadata": {
    "collapsed": true
   },
   "outputs": [],
   "source": [
    " - - - - - - - - - -\n",
    "|0|1|2|3|4|5|6|7|8|9|\n",
    " - - - - - - - - - -"
   ]
  },
  {
   "cell_type": "code",
   "execution_count": null,
   "metadata": {
    "collapsed": true
   },
   "outputs": [],
   "source": [
    "# Impl. 3 idea - break the array into slices - problem remembering total slice offset\n",
    "\n",
    "def split(array):\n",
    "    left = array[:int(len(array)/2)]\n",
    "    right = array[len(left)+1:]\n",
    "    return(left, right)\n",
    "\n",
    "def chop(target, array):\n",
    "    \n",
    "    while (True):\n",
    "        (left, right) = split(array)\n",
    "        if left[-1] == target:\n",
    "            return len(left)-1\n",
    "        elif (left[-1] :\n",
    "            "
   ]
  },
  {
   "cell_type": "code",
   "execution_count": null,
   "metadata": {
    "collapsed": true
   },
   "outputs": [],
   "source": [
    "# Impl. 4 idea - Generate a tree of indexes to check and then walk the tree\n",
    "\n",
    "class Node():\n",
    "    def __init__(self, val, left, right):\n",
    "        self.val = val\n",
    "        self.left = left\n",
    "        self.right = right\n",
    "        \n",
    "class Tree():\n",
    "    def __init__(self, rootNode):\n",
    "        self.root = rootNode\n",
    "        \n",
    "def chop(target, array):\n",
    "    level = 0\n",
    "    lb = 0\n",
    "    rb = len(array) -1\n",
    "    i = lb + int((rb-lb)/2)\n",
    "    tree = Tree(Node(i, None, None))\n",
    "    tree.root.left = Node()\n"
   ]
  },
  {
   "cell_type": "code",
   "execution_count": null,
   "metadata": {
    "collapsed": true
   },
   "outputs": [],
   "source": [
    "# Impl. 6 idea - generators & yield ??? map & apply ???"
   ]
  },
  {
   "cell_type": "code",
   "execution_count": 51,
   "metadata": {
    "collapsed": false
   },
   "outputs": [
    {
     "name": "stdout",
     "output_type": "stream",
     "text": [
      "True\n",
      "True\n",
      "True\n",
      "True\n",
      "True\n",
      "True\n",
      "True\n",
      "True\n",
      "True\n",
      "True\n",
      "True\n",
      "True\n",
      "True\n",
      "True\n",
      "True\n",
      "True\n",
      "True\n",
      "True\n",
      "True\n"
     ]
    }
   ],
   "source": [
    "# ToDo: unittest not playing nice with jupyter at the moment.\n",
    "\n",
    "print(-1 == chop(3, []))\n",
    "print(-1 == chop(3, [1]))\n",
    "print(0 ==  chop(1, [1]))\n",
    "#\n",
    "print(0 == chop(1, [1, 3, 5]))\n",
    "print(1 == chop(3, [1, 3, 5]))\n",
    "print(2 == chop(5, [1, 3, 5]))\n",
    "print(-1 == chop(0, [1, 3, 5]))\n",
    "print(-1 == chop(2, [1, 3, 5]))\n",
    "print(-1 == chop(4, [1, 3, 5]))\n",
    "print(-1 == chop(6, [1, 3, 5]))\n",
    "#\n",
    "print(0 == chop(1, [1, 3, 5, 7]))\n",
    "print(1 == chop(3, [1, 3, 5, 7]))\n",
    "print(2 == chop(5, [1, 3, 5, 7]))\n",
    "print(3 == chop(7, [1, 3, 5, 7]))\n",
    "print(-1 == chop(0, [1, 3, 5, 7]))\n",
    "print(-1 == chop(2, [1, 3, 5, 7]))\n",
    "print(-1 == chop(4, [1, 3, 5, 7]))\n",
    "print(-1 == chop(6, [1, 3, 5, 7]))\n",
    "print(-1 == chop(8, [1, 3, 5, 7]))"
   ]
  },
  {
   "cell_type": "code",
   "execution_count": null,
   "metadata": {
    "collapsed": true
   },
   "outputs": [],
   "source": []
  }
 ],
 "metadata": {
  "kernelspec": {
   "display_name": "Python 3",
   "language": "python",
   "name": "python3"
  },
  "language_info": {
   "codemirror_mode": {
    "name": "ipython",
    "version": 3
   },
   "file_extension": ".py",
   "mimetype": "text/x-python",
   "name": "python",
   "nbconvert_exporter": "python",
   "pygments_lexer": "ipython3",
   "version": "3.5.1"
  }
 },
 "nbformat": 4,
 "nbformat_minor": 0
}
